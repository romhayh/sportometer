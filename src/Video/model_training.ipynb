{
 "cells": [
  {
   "cell_type": "code",
   "execution_count": 1,
   "metadata": {},
   "outputs": [],
   "source": [
    "import tensorflow as tf"
   ]
  },
  {
   "cell_type": "code",
   "execution_count": 2,
   "metadata": {},
   "outputs": [],
   "source": [
    "from tensorflow.keras.layers import Dense, Conv2D, MaxPooling2D, Dense, Flatten, Dropout,AveragePooling2D"
   ]
  },
  {
   "cell_type": "code",
   "execution_count": 3,
   "metadata": {},
   "outputs": [],
   "source": [
    "from tensorflow.keras.models import Sequential"
   ]
  },
  {
   "cell_type": "code",
   "execution_count": 4,
   "metadata": {},
   "outputs": [],
   "source": [
    "from tensorflow.keras.preprocessing.image import ImageDataGenerator"
   ]
  },
  {
   "cell_type": "code",
   "execution_count": 5,
   "metadata": {},
   "outputs": [],
   "source": [
    "from tensorflow import keras"
   ]
  },
  {
   "cell_type": "code",
   "execution_count": 6,
   "metadata": {},
   "outputs": [],
   "source": [
    "from sklearn.metrics import classification_report"
   ]
  },
  {
   "cell_type": "code",
   "execution_count": 7,
   "metadata": {},
   "outputs": [],
   "source": [
    "from math import ceil"
   ]
  },
  {
   "cell_type": "code",
   "execution_count": 8,
   "metadata": {},
   "outputs": [],
   "source": [
    "from itertools import islice"
   ]
  },
  {
   "cell_type": "markdown",
   "metadata": {},
   "source": [
    "# Look at the data to see how to adjust it"
   ]
  },
  {
   "cell_type": "code",
   "execution_count": 9,
   "metadata": {},
   "outputs": [],
   "source": [
    "import cv2\n",
    "import numpy as np\n",
    "import matplotlib.pyplot as plt\n",
    "%matplotlib inline\n",
    "import os\n",
    "import random"
   ]
  },
  {
   "cell_type": "markdown",
   "metadata": {},
   "source": [
    "take a look at a random image"
   ]
  },
  {
   "cell_type": "code",
   "execution_count": 10,
   "metadata": {},
   "outputs": [],
   "source": [
    "listdir = os.listdir(r'D:\\vscode workspace\\cv project\\src\\Video\\Images\\train\\boost')"
   ]
  },
  {
   "cell_type": "code",
   "execution_count": 11,
   "metadata": {},
   "outputs": [],
   "source": [
    "path = random.choice(listdir)"
   ]
  },
  {
   "cell_type": "code",
   "execution_count": 12,
   "metadata": {},
   "outputs": [
    {
     "data": {
      "text/plain": [
       "'b9i170.png'"
      ]
     },
     "execution_count": 12,
     "metadata": {},
     "output_type": "execute_result"
    }
   ],
   "source": [
    "path"
   ]
  },
  {
   "cell_type": "code",
   "execution_count": 13,
   "metadata": {},
   "outputs": [],
   "source": [
    "img = cv2.imread(r'D:\\vscode workspace\\cv project\\src\\Video\\Images\\train\\boost\\\\' + path)"
   ]
  },
  {
   "cell_type": "code",
   "execution_count": 14,
   "metadata": {},
   "outputs": [
    {
     "data": {
      "text/plain": [
       "array([[[0, 0, 0],\n",
       "        [0, 0, 0],\n",
       "        [0, 0, 0],\n",
       "        ...,\n",
       "        [0, 0, 0],\n",
       "        [0, 0, 0],\n",
       "        [0, 0, 0]],\n",
       "\n",
       "       [[0, 0, 0],\n",
       "        [0, 0, 0],\n",
       "        [0, 0, 0],\n",
       "        ...,\n",
       "        [0, 0, 0],\n",
       "        [0, 0, 0],\n",
       "        [0, 0, 0]],\n",
       "\n",
       "       [[0, 0, 0],\n",
       "        [0, 0, 0],\n",
       "        [0, 0, 0],\n",
       "        ...,\n",
       "        [0, 0, 0],\n",
       "        [0, 0, 0],\n",
       "        [0, 0, 0]],\n",
       "\n",
       "       ...,\n",
       "\n",
       "       [[0, 0, 0],\n",
       "        [0, 0, 0],\n",
       "        [0, 0, 0],\n",
       "        ...,\n",
       "        [0, 0, 0],\n",
       "        [0, 0, 0],\n",
       "        [0, 0, 0]],\n",
       "\n",
       "       [[0, 0, 0],\n",
       "        [0, 0, 0],\n",
       "        [0, 0, 0],\n",
       "        ...,\n",
       "        [0, 0, 0],\n",
       "        [0, 0, 0],\n",
       "        [0, 0, 0]],\n",
       "\n",
       "       [[0, 0, 0],\n",
       "        [0, 0, 0],\n",
       "        [0, 0, 0],\n",
       "        ...,\n",
       "        [0, 0, 0],\n",
       "        [0, 0, 0],\n",
       "        [0, 0, 0]]], dtype=uint8)"
      ]
     },
     "execution_count": 14,
     "metadata": {},
     "output_type": "execute_result"
    }
   ],
   "source": [
    "img"
   ]
  },
  {
   "cell_type": "code",
   "execution_count": 15,
   "metadata": {},
   "outputs": [
    {
     "data": {
      "text/plain": [
       "<matplotlib.image.AxesImage at 0x2772cfa46d0>"
      ]
     },
     "execution_count": 15,
     "metadata": {},
     "output_type": "execute_result"
    },
    {
     "data": {
      "image/png": "[encoded data removed]",
      "text/plain": [
       "<Figure size 432x288 with 1 Axes>"
      ]
     },
     "metadata": {
      "needs_background": "light"
     },
     "output_type": "display_data"
    }
   ],
   "source": [
    "plt.imshow(img, cmap='gray')"
   ]
  },
  {
   "cell_type": "code",
   "execution_count": 16,
   "metadata": {},
   "outputs": [
    {
     "data": {
      "text/plain": [
       "255"
      ]
     },
     "execution_count": 16,
     "metadata": {},
     "output_type": "execute_result"
    }
   ],
   "source": [
    "img.max()"
   ]
  },
  {
   "cell_type": "markdown",
   "metadata": {},
   "source": [
    "we will need to shift the values from `[0, 255]` to `[0, 1]`"
   ]
  },
  {
   "cell_type": "markdown",
   "metadata": {},
   "source": [
    "# Load the data from the folders\n",
    "### by using keras preprocessing tools"
   ]
  },
  {
   "cell_type": "markdown",
   "metadata": {},
   "source": [
    "make an image data generator to make the machine more robust"
   ]
  },
  {
   "cell_type": "code",
   "execution_count": 17,
   "metadata": {},
   "outputs": [],
   "source": [
    "image_gen = ImageDataGenerator(\n",
    "    rotation_range= 10,\n",
    "    height_shift_range= 0.2,\n",
    "    width_shift_range= 0.1,\n",
    "    zoom_range= 0.15,\n",
    "    horizontal_flip= True,\n",
    "    vertical_flip= False,\n",
    "    fill_mode='constant',\n",
    "    cval= 0.0,\n",
    "    rescale= 1/255  # shifting the values range                               \n",
    ")"
   ]
  },
  {
   "cell_type": "code",
   "execution_count": 18,
   "metadata": {},
   "outputs": [
    {
     "data": {
      "text/plain": [
       "<matplotlib.image.AxesImage at 0x2772d703b80>"
      ]
     },
     "execution_count": 18,
     "metadata": {},
     "output_type": "execute_result"
    },
    {
     "data": {
      "image/png": "[encoded data removed]",
      "text/plain": [
       "<Figure size 432x288 with 1 Axes>"
      ]
     },
     "metadata": {
      "needs_background": "light"
     },
     "output_type": "display_data"
    }
   ],
   "source": [
    "plt.imshow(image_gen.random_transform(img), 'gray')"
   ]
  },
  {
   "cell_type": "code",
   "execution_count": 19,
   "metadata": {},
   "outputs": [],
   "source": [
    "INPUT_SHAPE = (100, 100, 1)"
   ]
  },
  {
   "cell_type": "markdown",
   "metadata": {},
   "source": [
    "load the data from the folders and invoke the transformations on it"
   ]
  },
  {
   "cell_type": "code",
   "execution_count": 20,
   "metadata": {},
   "outputs": [
    {
     "name": "stdout",
     "output_type": "stream",
     "text": [
      "Found 5748 images belonging to 3 classes.\n",
      "Found 890 images belonging to 3 classes.\n"
     ]
    }
   ],
   "source": [
    "batch_size = 48\n",
    "train_image_gen = image_gen.flow_from_directory(\n",
    "    r'D:\\vscode workspace\\cv project\\src\\Video\\Images\\train',\n",
    "    # the picture size is (100, 100)\n",
    "    target_size= INPUT_SHAPE[:2],\n",
    "    # there are 3 classes \n",
    "    class_mode='categorical',\n",
    "    color_mode= 'grayscale',\n",
    "    # when the fit function will request images, \n",
    "    # this generator will give it a tensor of \n",
    "    # 24 images\n",
    "    batch_size=batch_size\n",
    "    )\n",
    "\n",
    "test_image_gen = image_gen.flow_from_directory(\n",
    "    r'D:\\vscode workspace\\cv project\\src\\Video\\Images\\test',\n",
    "    target_size= INPUT_SHAPE[:2],\n",
    "    class_mode='categorical',\n",
    "    color_mode= 'grayscale',\n",
    "    batch_size=batch_size\n",
    "    )"
   ]
  },
  {
   "cell_type": "code",
   "execution_count": 21,
   "metadata": {},
   "outputs": [
    {
     "data": {
      "text/plain": [
       "<tensorflow.python.keras.preprocessing.image.DirectoryIterator at 0x2772d732fd0>"
      ]
     },
     "execution_count": 21,
     "metadata": {},
     "output_type": "execute_result"
    }
   ],
   "source": [
    "train_image_gen"
   ]
  },
  {
   "cell_type": "code",
   "execution_count": 22,
   "metadata": {},
   "outputs": [
    {
     "data": {
      "text/plain": [
       "{'boost': 0, 'click': 1, 'upgrade': 2}"
      ]
     },
     "execution_count": 22,
     "metadata": {},
     "output_type": "execute_result"
    }
   ],
   "source": [
    "train_image_gen.class_indices"
   ]
  },
  {
   "cell_type": "markdown",
   "metadata": {},
   "source": [
    "# Create the model\n",
    "\n",
    "\n",
    "\n",
    "\n",
    "  \n",
    "\n",
    "  "
   ]
  },
  {
   "cell_type": "code",
   "execution_count": 23,
   "metadata": {},
   "outputs": [],
   "source": [
    "model = Sequential()\n",
    "\n",
    "model.add(Conv2D(filters=32, kernel_size=(3,3), activation= 'relu'))\n",
    "\n",
    "model.add(MaxPooling2D(pool_size=(2,2)))\n",
    "\n",
    "model.add(Flatten())\n",
    "\n",
    "model.add(Dense(128, activation='relu'))\n",
    "\n",
    "model.add(Dense(128, activation='relu'))\n",
    "\n",
    "model.add(Dropout(0.5))\n",
    "\n",
    "# the output layer:\n",
    "# it will return a 3 float-type list\n",
    "# at the 0th index will be the probability that the img is a boost\n",
    "# at the 1st index will be the probability that the img is a click\n",
    "# at the 2nd index will be the probability that the img is an upgrade\n",
    "model.add(Dense(3, activation='softmax'))"
   ]
  },
  {
   "cell_type": "code",
   "execution_count": 24,
   "metadata": {},
   "outputs": [],
   "source": [
    "model.compile(\n",
    "    # this loss function categorical because there are \n",
    "    # more than 2 classes to classify between\n",
    "    loss='categorical_crossentropy',\n",
    "    optimizer= 'adam',\n",
    "    metrics=['accuracy', tf.keras.metrics.Precision(), tf.keras.metrics.Recall()])"
   ]
  },
  {
   "cell_type": "markdown",
   "metadata": {},
   "source": [
    "## Train the model\n",
    "### using the image generator"
   ]
  },
  {
   "cell_type": "code",
   "execution_count": 25,
   "metadata": {},
   "outputs": [
    {
     "name": "stdout",
     "output_type": "stream",
     "text": [
      "Epoch 1/25\n",
      "120/120 [==============================] - 21s 165ms/step - loss: 0.6260 - accuracy: 0.7263 - precision: 0.7603 - recall: 0.6612 - val_loss: 0.2382 - val_accuracy: 0.9056 - val_precision: 0.9071 - val_recall: 0.9000\n",
      "Epoch 2/25\n",
      "120/120 [==============================] - 18s 149ms/step - loss: 0.2688 - accuracy: 0.8933 - precision: 0.8991 - recall: 0.8873 - val_loss: 0.1584 - val_accuracy: 0.9506 - val_precision: 0.9504 - val_recall: 0.9472\n",
      "Epoch 3/25\n",
      "120/120 [==============================] - 18s 148ms/step - loss: 0.1657 - accuracy: 0.9400 - precision: 0.9419 - recall: 0.9381 - val_loss: 0.1346 - val_accuracy: 0.9629 - val_precision: 0.9640 - val_recall: 0.9629\n",
      "Epoch 4/25\n",
      "120/120 [==============================] - 18s 148ms/step - loss: 0.1440 - accuracy: 0.9411 - precision: 0.9425 - recall: 0.9408 - val_loss: 0.1009 - val_accuracy: 0.9697 - val_precision: 0.9696 - val_recall: 0.9685\n",
      "Epoch 5/25\n",
      "120/120 [==============================] - 18s 147ms/step - loss: 0.1110 - accuracy: 0.9648 - precision: 0.9653 - recall: 0.9644 - val_loss: 0.1130 - val_accuracy: 0.9629 - val_precision: 0.9628 - val_recall: 0.9607\n",
      "Epoch 6/25\n",
      "120/120 [==============================] - 18s 149ms/step - loss: 0.1003 - accuracy: 0.9678 - precision: 0.9682 - recall: 0.9673 - val_loss: 0.0875 - val_accuracy: 0.9764 - val_precision: 0.9764 - val_recall: 0.9764\n",
      "Epoch 7/25\n",
      "120/120 [==============================] - 18s 151ms/step - loss: 0.0876 - accuracy: 0.9726 - precision: 0.9730 - recall: 0.9726 - val_loss: 0.0871 - val_accuracy: 0.9674 - val_precision: 0.9674 - val_recall: 0.9674\n",
      "Epoch 8/25\n",
      "120/120 [==============================] - 18s 148ms/step - loss: 0.0822 - accuracy: 0.9744 - precision: 0.9746 - recall: 0.9731 - val_loss: 0.0827 - val_accuracy: 0.9775 - val_precision: 0.9786 - val_recall: 0.9775\n",
      "Epoch 9/25\n",
      "120/120 [==============================] - 18s 149ms/step - loss: 0.0685 - accuracy: 0.9779 - precision: 0.9781 - recall: 0.9777 - val_loss: 0.0688 - val_accuracy: 0.9764 - val_precision: 0.9764 - val_recall: 0.9764\n",
      "Epoch 10/25\n",
      "120/120 [==============================] - 18s 148ms/step - loss: 0.0643 - accuracy: 0.9783 - precision: 0.9785 - recall: 0.9783 - val_loss: 0.0459 - val_accuracy: 0.9854 - val_precision: 0.9865 - val_recall: 0.9843\n",
      "Epoch 11/25\n",
      "120/120 [==============================] - 18s 150ms/step - loss: 0.0623 - accuracy: 0.9785 - precision: 0.9785 - recall: 0.9777 - val_loss: 0.0933 - val_accuracy: 0.9697 - val_precision: 0.9708 - val_recall: 0.9697\n",
      "Epoch 12/25\n",
      "120/120 [==============================] - 19s 155ms/step - loss: 0.0655 - accuracy: 0.9794 - precision: 0.9795 - recall: 0.9794 - val_loss: 0.0747 - val_accuracy: 0.9831 - val_precision: 0.9831 - val_recall: 0.9820\n",
      "Epoch 13/25\n",
      "120/120 [==============================] - 19s 154ms/step - loss: 0.0455 - accuracy: 0.9855 - precision: 0.9855 - recall: 0.9850 - val_loss: 0.0629 - val_accuracy: 0.9820 - val_precision: 0.9820 - val_recall: 0.9820\n",
      "Epoch 14/25\n",
      "120/120 [==============================] - 18s 152ms/step - loss: 0.0615 - accuracy: 0.9784 - precision: 0.9787 - recall: 0.9783 - val_loss: 0.0466 - val_accuracy: 0.9843 - val_precision: 0.9843 - val_recall: 0.9843\n",
      "Epoch 15/25\n",
      "120/120 [==============================] - 18s 149ms/step - loss: 0.0497 - accuracy: 0.9848 - precision: 0.9852 - recall: 0.9848 - val_loss: 0.0631 - val_accuracy: 0.9831 - val_precision: 0.9831 - val_recall: 0.9831\n",
      "Epoch 16/25\n",
      "120/120 [==============================] - 18s 152ms/step - loss: 0.0423 - accuracy: 0.9862 - precision: 0.9862 - recall: 0.9862 - val_loss: 0.0466 - val_accuracy: 0.9820 - val_precision: 0.9820 - val_recall: 0.9820\n",
      "Epoch 17/25\n",
      "120/120 [==============================] - 18s 148ms/step - loss: 0.0494 - accuracy: 0.9796 - precision: 0.9799 - recall: 0.9796 - val_loss: 0.0325 - val_accuracy: 0.9888 - val_precision: 0.9888 - val_recall: 0.9888\n",
      "Epoch 18/25\n",
      "120/120 [==============================] - 18s 153ms/step - loss: 0.0611 - accuracy: 0.9813 - precision: 0.9817 - recall: 0.9804 - val_loss: 0.0398 - val_accuracy: 0.9876 - val_precision: 0.9876 - val_recall: 0.9876\n",
      "Epoch 19/25\n",
      "120/120 [==============================] - 18s 148ms/step - loss: 0.0573 - accuracy: 0.9805 - precision: 0.9805 - recall: 0.9805 - val_loss: 0.0490 - val_accuracy: 0.9876 - val_precision: 0.9876 - val_recall: 0.9876\n",
      "Epoch 20/25\n",
      "120/120 [==============================] - 18s 150ms/step - loss: 0.0396 - accuracy: 0.9870 - precision: 0.9870 - recall: 0.9870 - val_loss: 0.0434 - val_accuracy: 0.9854 - val_precision: 0.9854 - val_recall: 0.9854\n",
      "Epoch 21/25\n",
      "120/120 [==============================] - 18s 149ms/step - loss: 0.0446 - accuracy: 0.9832 - precision: 0.9832 - recall: 0.9832 - val_loss: 0.0372 - val_accuracy: 0.9888 - val_precision: 0.9888 - val_recall: 0.9876\n",
      "Epoch 22/25\n",
      "120/120 [==============================] - 18s 148ms/step - loss: 0.0422 - accuracy: 0.9867 - precision: 0.9867 - recall: 0.9867 - val_loss: 0.0820 - val_accuracy: 0.9798 - val_precision: 0.9809 - val_recall: 0.9787\n",
      "Epoch 23/25\n",
      "120/120 [==============================] - 18s 149ms/step - loss: 0.0399 - accuracy: 0.9855 - precision: 0.9858 - recall: 0.9855 - val_loss: 0.0315 - val_accuracy: 0.9910 - val_precision: 0.9910 - val_recall: 0.9899\n",
      "Epoch 24/25\n",
      "120/120 [==============================] - 18s 148ms/step - loss: 0.0440 - accuracy: 0.9846 - precision: 0.9846 - recall: 0.9844 - val_loss: 0.0407 - val_accuracy: 0.9831 - val_precision: 0.9831 - val_recall: 0.9831\n",
      "Epoch 25/25\n",
      "120/120 [==============================] - 18s 147ms/step - loss: 0.0326 - accuracy: 0.9897 - precision: 0.9897 - recall: 0.9894 - val_loss: 0.0500 - val_accuracy: 0.9843 - val_precision: 0.9854 - val_recall: 0.9843\n"
     ]
    }
   ],
   "source": [
    "results = model.fit(x=train_image_gen,\n",
    "                  epochs= 25,\n",
    "                  validation_data= test_image_gen)"
   ]
  },
  {
   "cell_type": "markdown",
   "metadata": {},
   "source": [
    "# Tests and Performance"
   ]
  },
  {
   "cell_type": "code",
   "execution_count": 26,
   "metadata": {},
   "outputs": [
    {
     "name": "stdout",
     "output_type": "stream",
     "text": [
      "19/19 - 1s - loss: 0.0667 - accuracy: 0.9775 - precision: 0.9786 - recall: 0.9775\n"
     ]
    }
   ],
   "source": [
    "test_loss, test_pre, test_rec, test_acc = model.evaluate(test_image_gen, verbose=2)"
   ]
  },
  {
   "cell_type": "code",
   "execution_count": 27,
   "metadata": {},
   "outputs": [
    {
     "name": "stdout",
     "output_type": "stream",
     "text": [
      "Found 890 images belonging to 3 classes.\n",
      "imgs = (890, 100, 100, 1), labels = (890,)\n",
      "(890,)\n",
      "              precision    recall  f1-score   support\n",
      "\n",
      "       boost       0.98      0.99      0.99       298\n",
      "       click       0.98      0.96      0.97       296\n",
      "     upgrade       0.98      0.99      0.98       296\n",
      "\n",
      "    accuracy                           0.98       890\n",
      "   macro avg       0.98      0.98      0.98       890\n",
      "weighted avg       0.98      0.98      0.98       890\n",
      "\n"
     ]
    }
   ],
   "source": [
    "test_image_gen1 = image_gen.flow_from_directory(r'D:\\vscode workspace\\cv project\\src\\Video\\Images\\test',\n",
    "                                               target_size= INPUT_SHAPE[:2],\n",
    "                                               class_mode =  'categorical',\n",
    "                                               color_mode =  'grayscale',\n",
    "                                               batch_size =  1500\n",
    "                                            )\n",
    "imgs, labels = test_image_gen1.next()\n",
    "labels = np.argmax(labels, axis=-1)\n",
    "print(f'imgs = {imgs.shape}, labels = {labels.shape}')\n",
    "\n",
    "predictions = np.argmax(model.predict(imgs), axis= -1)\n",
    "print(predictions.shape)\n",
    "\n",
    "\n",
    "print(classification_report(labels, predictions,\n",
    "                            target_names= ['boost', 'click', 'upgrade']))"
   ]
  },
  {
   "cell_type": "code",
   "execution_count": 28,
   "metadata": {},
   "outputs": [],
   "source": [
    "# get a random image\n",
    "listdir = os.listdir(r'D:\\vscode workspace\\cv project\\src\\Video\\Images\\test\\boost')\n",
    "image = random.choice(listdir)\n",
    "\n",
    "path = os.path.normpath(r'D:\\vscode workspace\\cv project\\src\\Video\\Images\\test\\boost' + '\\\\' + image)\n",
    "img = cv2.imread(path)"
   ]
  },
  {
   "cell_type": "code",
   "execution_count": 29,
   "metadata": {},
   "outputs": [
    {
     "data": {
      "text/plain": [
       "<matplotlib.image.AxesImage at 0x27733857220>"
      ]
     },
     "execution_count": 29,
     "metadata": {},
     "output_type": "execute_result"
    },
    {
     "data": {
      "image/png": "[encoded data removed]",
      "text/plain": [
       "<Figure size 432x288 with 1 Axes>"
      ]
     },
     "metadata": {
      "needs_background": "light"
     },
     "output_type": "display_data"
    }
   ],
   "source": [
    "plt.imshow(img, 'gray')"
   ]
  },
  {
   "cell_type": "code",
   "execution_count": 30,
   "metadata": {},
   "outputs": [],
   "source": [
    "img = cv2.cvtColor(img, cv2.COLOR_BGR2GRAY)/ 255"
   ]
  },
  {
   "cell_type": "code",
   "execution_count": 31,
   "metadata": {},
   "outputs": [
    {
     "name": "stdout",
     "output_type": "stream",
     "text": [
      "(100, 100)\n",
      "(1, 100, 100, 1)\n"
     ]
    }
   ],
   "source": [
    "print(img.shape)\n",
    "img = img.reshape((1,100, 100, 1))\n",
    "print(img.shape)"
   ]
  },
  {
   "cell_type": "code",
   "execution_count": 32,
   "metadata": {},
   "outputs": [
    {
     "data": {
      "text/plain": [
       "0"
      ]
     },
     "execution_count": 32,
     "metadata": {},
     "output_type": "execute_result"
    }
   ],
   "source": [
    "np.argmax(model.predict(img)) # 0 for boost (jump)"
   ]
  },
  {
   "cell_type": "code",
   "execution_count": 33,
   "metadata": {},
   "outputs": [
    {
     "data": {
      "text/plain": [
       "[<matplotlib.lines.Line2D at 0x277338f2610>]"
      ]
     },
     "execution_count": 33,
     "metadata": {},
     "output_type": "execute_result"
    },
    {
     "data": {
      "image/png": "[encoded data removed]",
      "text/plain": [
       "<Figure size 432x288 with 1 Axes>"
      ]
     },
     "metadata": {
      "needs_background": "light"
     },
     "output_type": "display_data"
    }
   ],
   "source": [
    "plt.plot(results.history['precision'])"
   ]
  },
  {
   "cell_type": "code",
   "execution_count": 34,
   "metadata": {},
   "outputs": [
    {
     "data": {
      "text/plain": [
       "[<matplotlib.lines.Line2D at 0x277338955e0>]"
      ]
     },
     "execution_count": 34,
     "metadata": {},
     "output_type": "execute_result"
    },
    {
     "data": {
      "image/png": "[encoded data removed]",
      "text/plain": [
       "<Figure size 432x288 with 1 Axes>"
      ]
     },
     "metadata": {
      "needs_background": "light"
     },
     "output_type": "display_data"
    }
   ],
   "source": [
    "plt.plot(results.history['accuracy'])"
   ]
  },
  {
   "cell_type": "code",
   "execution_count": 35,
   "metadata": {},
   "outputs": [
    {
     "data": {
      "text/plain": [
       "[<matplotlib.lines.Line2D at 0x27735baeac0>]"
      ]
     },
     "execution_count": 35,
     "metadata": {},
     "output_type": "execute_result"
    },
    {
     "data": {
      "image/png": "[encoded data removed]",
      "text/plain": [
       "<Figure size 432x288 with 1 Axes>"
      ]
     },
     "metadata": {
      "needs_background": "light"
     },
     "output_type": "display_data"
    }
   ],
   "source": [
    "plt.plot(results.history['recall'])"
   ]
  },
  {
   "cell_type": "markdown",
   "metadata": {},
   "source": [
    "# Save the model"
   ]
  },
  {
   "cell_type": "code",
   "execution_count": 36,
   "metadata": {},
   "outputs": [],
   "source": [
    "model.save(os.path.normpath('D:\\\\vscode workspace\\\\cv project\\\\src\\\\Video\\\\Models\\\\medmodel.h5'))"
   ]
  },
  {
   "cell_type": "markdown",
   "metadata": {},
   "source": [
    "     \n",
    "     \n",
    "     \n",
    "     "
   ]
  },
  {
   "cell_type": "markdown",
   "metadata": {},
   "source": [
    "\n",
    "\n"
   ]
  },
  {
   "cell_type": "markdown",
   "metadata": {},
   "source": [
    "  "
   ]
  },
  {
   "cell_type": "markdown",
   "metadata": {},
   "source": [
    " "
   ]
  },
  {
   "cell_type": "markdown",
   "metadata": {},
   "source": [
    " \n",
    " "
   ]
  },
  {
   "cell_type": "markdown",
   "metadata": {},
   "source": [
    " "
   ]
  },
  {
   "cell_type": "markdown",
   "metadata": {},
   "source": [
    "# LeNet 5 model\n",
    "using this [proposed implementation](https://towardsdatascience.com/understanding-and-implementing-lenet-5-cnn-architecture-deep-learning-a2d531ebc342)\n",
    "### Create"
   ]
  },
  {
   "cell_type": "code",
   "execution_count": 37,
   "metadata": {},
   "outputs": [],
   "source": [
    "lenet = Sequential()\n",
    "\n",
    "lenet.add(Conv2D(6, kernel_size=5, strides=1,  activation='tanh', input_shape=INPUT_SHAPE, padding='same')) # C1\n",
    "lenet.add(keras.layers.AveragePooling2D())                                                                  # S2\n",
    "\n",
    "lenet.add(Conv2D(16, kernel_size=5, strides=1, activation='tanh', padding='valid'))                         # C3\n",
    "lenet.add(keras.layers.AveragePooling2D())                                                                  # S4\n",
    "\n",
    "lenet.add(Flatten())\n",
    "\n",
    "lenet.add(Dense(120, activation='tanh'))                                                                    # F5\n",
    "lenet.add(Dense(84, activation='tanh'))                                                                     # F6\n",
    "lenet.add(Dense(3, activation= 'softmax'))                                                                  # F7"
   ]
  },
  {
   "cell_type": "code",
   "execution_count": 38,
   "metadata": {},
   "outputs": [],
   "source": [
    "lenet.compile(\n",
    "    # this loss function categorical because there are \n",
    "    # more than 2 classes to classify between\n",
    "    loss='categorical_crossentropy',\n",
    "    optimizer= 'adam',\n",
    "    metrics=['accuracy', tf.keras.metrics.Precision(), tf.keras.metrics.Recall()])"
   ]
  },
  {
   "cell_type": "code",
   "execution_count": 39,
   "metadata": {},
   "outputs": [
    {
     "name": "stdout",
     "output_type": "stream",
     "text": [
      "Epoch 1/10\n",
      "120/120 [==============================] - 16s 130ms/step - loss: 0.5415 - accuracy: 0.7519 - precision_1: 0.7943 - recall_1: 0.7085 - val_loss: 0.3084 - val_accuracy: 0.8753 - val_precision_1: 0.8797 - val_recall_1: 0.8708\n",
      "Epoch 2/10\n",
      "120/120 [==============================] - 15s 126ms/step - loss: 0.2597 - accuracy: 0.8964 - precision_1: 0.9021 - recall_1: 0.8936 - val_loss: 0.1831 - val_accuracy: 0.9315 - val_precision_1: 0.9427 - val_recall_1: 0.9247\n",
      "Epoch 3/10\n",
      "120/120 [==============================] - 15s 127ms/step - loss: 0.1716 - accuracy: 0.9386 - precision_1: 0.9415 - recall_1: 0.9355 - val_loss: 0.1487 - val_accuracy: 0.9506 - val_precision_1: 0.9502 - val_recall_1: 0.9438\n",
      "Epoch 4/10\n",
      "120/120 [==============================] - 16s 132ms/step - loss: 0.1420 - accuracy: 0.9510 - precision_1: 0.9535 - recall_1: 0.9499 - val_loss: 0.1580 - val_accuracy: 0.9393 - val_precision_1: 0.9393 - val_recall_1: 0.9382\n",
      "Epoch 5/10\n",
      "120/120 [==============================] - 15s 126ms/step - loss: 0.1354 - accuracy: 0.9519 - precision_1: 0.9532 - recall_1: 0.9508 - val_loss: 0.1106 - val_accuracy: 0.9596 - val_precision_1: 0.9605 - val_recall_1: 0.9573\n",
      "Epoch 6/10\n",
      "120/120 [==============================] - 15s 128ms/step - loss: 0.1095 - accuracy: 0.9625 - precision_1: 0.9643 - recall_1: 0.9622 - val_loss: 0.1571 - val_accuracy: 0.9461 - val_precision_1: 0.9470 - val_recall_1: 0.9427\n",
      "Epoch 7/10\n",
      "120/120 [==============================] - 15s 128ms/step - loss: 0.1209 - accuracy: 0.9555 - precision_1: 0.9562 - recall_1: 0.9545 - val_loss: 0.1042 - val_accuracy: 0.9674 - val_precision_1: 0.9673 - val_recall_1: 0.9652\n",
      "Epoch 8/10\n",
      "120/120 [==============================] - 15s 127ms/step - loss: 0.1020 - accuracy: 0.9646 - precision_1: 0.9651 - recall_1: 0.9642 - val_loss: 0.0851 - val_accuracy: 0.9685 - val_precision_1: 0.9706 - val_recall_1: 0.9640\n",
      "Epoch 9/10\n",
      "120/120 [==============================] - 15s 126ms/step - loss: 0.0920 - accuracy: 0.9685 - precision_1: 0.9694 - recall_1: 0.9685 - val_loss: 0.1000 - val_accuracy: 0.9663 - val_precision_1: 0.9663 - val_recall_1: 0.9652\n",
      "Epoch 10/10\n",
      "120/120 [==============================] - 15s 127ms/step - loss: 0.0836 - accuracy: 0.9704 - precision_1: 0.9707 - recall_1: 0.9701 - val_loss: 0.0967 - val_accuracy: 0.9652 - val_precision_1: 0.9651 - val_recall_1: 0.9640\n"
     ]
    },
    {
     "data": {
      "text/plain": [
       "<tensorflow.python.keras.callbacks.History at 0x27735bcafd0>"
      ]
     },
     "execution_count": 39,
     "metadata": {},
     "output_type": "execute_result"
    }
   ],
   "source": [
    "lenet.fit(x=train_image_gen,\n",
    "          epochs= 10,\n",
    "          validation_data= test_image_gen)"
   ]
  },
  {
   "cell_type": "code",
   "execution_count": 40,
   "metadata": {},
   "outputs": [
    {
     "name": "stdout",
     "output_type": "stream",
     "text": [
      "Found 890 images belonging to 3 classes.\n",
      "imgs = (100, 100, 100, 1), labels = (100,)\n",
      "(100,)\n",
      "              precision    recall  f1-score   support\n",
      "\n",
      "       boost       0.94      1.00      0.97        30\n",
      "       click       0.97      0.94      0.95        31\n",
      "     upgrade       1.00      0.97      0.99        39\n",
      "\n",
      "    accuracy                           0.97       100\n",
      "   macro avg       0.97      0.97      0.97       100\n",
      "weighted avg       0.97      0.97      0.97       100\n",
      "\n"
     ]
    }
   ],
   "source": [
    "\n",
    "test_image_gen1 = image_gen.flow_from_directory(r'D:\\vscode workspace\\cv project\\src\\Video\\Images\\test',\n",
    "                                               target_size= INPUT_SHAPE[:2],\n",
    "                                               class_mode =  'categorical',\n",
    "                                               color_mode =  'grayscale',\n",
    "                                               batch_size =  100\n",
    "                                            )\n",
    "imgs, labels = test_image_gen1.next()\n",
    "labels = np.argmax(labels, axis=-1)\n",
    "print(f'imgs = {imgs.shape}, labels = {labels.shape}')\n",
    "\n",
    "predictions = np.argmax(lenet.predict(imgs), axis= -1)\n",
    "print(predictions.shape)\n",
    "\n",
    "\n",
    "print(classification_report(labels, predictions,\n",
    "                            target_names= ['boost', 'click', 'upgrade']))"
   ]
  },
  {
   "cell_type": "code",
   "execution_count": 41,
   "metadata": {},
   "outputs": [
    {
     "name": "stdout",
     "output_type": "stream",
     "text": [
      "19/19 - 1s - loss: 0.1110 - accuracy: 0.9685 - precision_1: 0.9696 - recall_1: 0.9685\n"
     ]
    }
   ],
   "source": [
    "test_loss, test_pre, test_rec, test_acc = lenet.evaluate(test_image_gen, verbose=2)"
   ]
  },
  {
   "cell_type": "code",
   "execution_count": 42,
   "metadata": {},
   "outputs": [],
   "source": [
    "lenet.save(os.path.normpath('D:\\\\vscode workspace\\\\cv project\\\\src\\\\Video\\\\Models\\\\LeNet-5.h5'))"
   ]
  },
  {
   "cell_type": "markdown",
   "metadata": {},
   "source": [
    "# the big one:"
   ]
  },
  {
   "cell_type": "code",
   "execution_count": 43,
   "metadata": {},
   "outputs": [],
   "source": [
    "model = Sequential()\n",
    "\n",
    "model.add(Conv2D(filters=64, kernel_size=(5,5), activation= 'relu', input_shape=INPUT_SHAPE))\n",
    "model.add(MaxPooling2D(pool_size=(2,2)))\n",
    "\n",
    "model.add(Conv2D(filters=32, kernel_size=(3,3), activation= 'relu'))\n",
    "model.add(MaxPooling2D(pool_size=(2,2)))\n",
    "\n",
    "model.add(Flatten())\n",
    "\n",
    "model.add(Dense(128, activation='relu'))\n",
    "\n",
    "model.add(Dense(128, activation='relu'))\n",
    "model.add(Dropout(0.5))\n",
    "\n",
    "model.add(Dense(128, activation='relu'))\n",
    "\n",
    "# the output layer:\n",
    "# it will return a 3 float-type list\n",
    "# at the 0th index will be the probability that the img is a boost\n",
    "# at the 1st index will be the probability that the img is a click\n",
    "# at the 2nd index will be the probability that the img is an upgrade\n",
    "model.add(Dense(3, activation='softmax'))"
   ]
  },
  {
   "cell_type": "code",
   "execution_count": 44,
   "metadata": {},
   "outputs": [],
   "source": [
    "model.compile(\n",
    "    # this loss function categorical because there are \n",
    "    # more than 2 classes to classify between\n",
    "    loss='categorical_crossentropy',\n",
    "    optimizer= 'adam',\n",
    "    metrics=['accuracy', tf.keras.metrics.Precision(), tf.keras.metrics.Recall()])"
   ]
  },
  {
   "cell_type": "code",
   "execution_count": 45,
   "metadata": {},
   "outputs": [
    {
     "name": "stdout",
     "output_type": "stream",
     "text": [
      "Epoch 1/50\n",
      "120/120 [==============================] - 39s 318ms/step - loss: 0.6226 - accuracy: 0.7042 - precision_2: 0.7789 - recall_2: 0.6009 - val_loss: 0.2363 - val_accuracy: 0.8978 - val_precision_2: 0.9033 - val_recall_2: 0.8921\n",
      "Epoch 2/50\n",
      "120/120 [==============================] - 37s 311ms/step - loss: 0.2533 - accuracy: 0.9003 - precision_2: 0.9079 - recall_2: 0.8937 - val_loss: 0.1522 - val_accuracy: 0.9449 - val_precision_2: 0.9470 - val_recall_2: 0.9438\n",
      "Epoch 3/50\n",
      "120/120 [==============================] - 37s 309ms/step - loss: 0.1678 - accuracy: 0.9405 - precision_2: 0.9436 - recall_2: 0.9380 - val_loss: 0.0831 - val_accuracy: 0.9787 - val_precision_2: 0.9808 - val_recall_2: 0.9764\n",
      "Epoch 4/50\n",
      "120/120 [==============================] - 38s 312ms/step - loss: 0.1131 - accuracy: 0.9619 - precision_2: 0.9625 - recall_2: 0.9611 - val_loss: 0.0660 - val_accuracy: 0.9820 - val_precision_2: 0.9820 - val_recall_2: 0.9798\n",
      "Epoch 5/50\n",
      "120/120 [==============================] - 37s 310ms/step - loss: 0.0895 - accuracy: 0.9700 - precision_2: 0.9709 - recall_2: 0.9693 - val_loss: 0.0666 - val_accuracy: 0.9798 - val_precision_2: 0.9797 - val_recall_2: 0.9775\n",
      "Epoch 6/50\n",
      "120/120 [==============================] - 38s 314ms/step - loss: 0.0785 - accuracy: 0.9754 - precision_2: 0.9762 - recall_2: 0.9749 - val_loss: 0.0770 - val_accuracy: 0.9742 - val_precision_2: 0.9752 - val_recall_2: 0.9730\n",
      "Epoch 7/50\n",
      "120/120 [==============================] - 38s 313ms/step - loss: 0.0660 - accuracy: 0.9788 - precision_2: 0.9796 - recall_2: 0.9782 - val_loss: 0.0926 - val_accuracy: 0.9685 - val_precision_2: 0.9696 - val_recall_2: 0.9685\n",
      "Epoch 8/50\n",
      "120/120 [==============================] - 38s 317ms/step - loss: 0.0645 - accuracy: 0.9791 - precision_2: 0.9794 - recall_2: 0.9782 - val_loss: 0.0645 - val_accuracy: 0.9787 - val_precision_2: 0.9797 - val_recall_2: 0.9775\n",
      "Epoch 9/50\n",
      "120/120 [==============================] - 38s 313ms/step - loss: 0.0580 - accuracy: 0.9817 - precision_2: 0.9818 - recall_2: 0.9814 - val_loss: 0.0358 - val_accuracy: 0.9910 - val_precision_2: 0.9910 - val_recall_2: 0.9899\n",
      "Epoch 10/50\n",
      "120/120 [==============================] - 38s 313ms/step - loss: 0.0528 - accuracy: 0.9838 - precision_2: 0.9839 - recall_2: 0.9838 - val_loss: 0.0373 - val_accuracy: 0.9899 - val_precision_2: 0.9899 - val_recall_2: 0.9899\n",
      "Epoch 11/50\n",
      "120/120 [==============================] - 38s 314ms/step - loss: 0.0436 - accuracy: 0.9864 - precision_2: 0.9872 - recall_2: 0.9862 - val_loss: 0.0612 - val_accuracy: 0.9798 - val_precision_2: 0.9809 - val_recall_2: 0.9798\n",
      "Epoch 12/50\n",
      "120/120 [==============================] - 38s 314ms/step - loss: 0.0644 - accuracy: 0.9794 - precision_2: 0.9794 - recall_2: 0.9793 - val_loss: 0.0599 - val_accuracy: 0.9831 - val_precision_2: 0.9831 - val_recall_2: 0.9809\n",
      "Epoch 13/50\n",
      "120/120 [==============================] - 38s 316ms/step - loss: 0.0347 - accuracy: 0.9896 - precision_2: 0.9896 - recall_2: 0.9896 - val_loss: 0.0552 - val_accuracy: 0.9809 - val_precision_2: 0.9809 - val_recall_2: 0.9809\n",
      "Epoch 14/50\n",
      "120/120 [==============================] - 38s 313ms/step - loss: 0.0326 - accuracy: 0.9891 - precision_2: 0.9893 - recall_2: 0.9886 - val_loss: 0.0710 - val_accuracy: 0.9764 - val_precision_2: 0.9764 - val_recall_2: 0.9753\n",
      "Epoch 15/50\n",
      "120/120 [==============================] - 38s 313ms/step - loss: 0.0368 - accuracy: 0.9902 - precision_2: 0.9906 - recall_2: 0.9901 - val_loss: 0.0453 - val_accuracy: 0.9843 - val_precision_2: 0.9843 - val_recall_2: 0.9843\n",
      "Epoch 16/50\n",
      "120/120 [==============================] - 38s 312ms/step - loss: 0.0468 - accuracy: 0.9847 - precision_2: 0.9850 - recall_2: 0.9841 - val_loss: 0.0256 - val_accuracy: 0.9888 - val_precision_2: 0.9888 - val_recall_2: 0.9888\n",
      "Epoch 17/50\n",
      "120/120 [==============================] - 38s 320ms/step - loss: 0.0264 - accuracy: 0.9915 - precision_2: 0.9917 - recall_2: 0.9915 - val_loss: 0.0315 - val_accuracy: 0.9910 - val_precision_2: 0.9910 - val_recall_2: 0.9910\n",
      "Epoch 18/50\n",
      "120/120 [==============================] - 38s 317ms/step - loss: 0.0309 - accuracy: 0.9900 - precision_2: 0.9910 - recall_2: 0.9900 - val_loss: 0.0167 - val_accuracy: 0.9955 - val_precision_2: 0.9966 - val_recall_2: 0.9955\n",
      "Epoch 19/50\n",
      "120/120 [==============================] - 38s 319ms/step - loss: 0.0250 - accuracy: 0.9909 - precision_2: 0.9909 - recall_2: 0.9909 - val_loss: 0.0332 - val_accuracy: 0.9888 - val_precision_2: 0.9888 - val_recall_2: 0.9888\n",
      "Epoch 20/50\n",
      "120/120 [==============================] - 38s 317ms/step - loss: 0.0340 - accuracy: 0.9892 - precision_2: 0.9900 - recall_2: 0.9891 - val_loss: 0.0433 - val_accuracy: 0.9921 - val_precision_2: 0.9933 - val_recall_2: 0.9921\n",
      "Epoch 21/50\n",
      "120/120 [==============================] - 38s 315ms/step - loss: 0.0331 - accuracy: 0.9893 - precision_2: 0.9895 - recall_2: 0.9886 - val_loss: 0.0261 - val_accuracy: 0.9921 - val_precision_2: 0.9921 - val_recall_2: 0.9921\n",
      "Epoch 22/50\n",
      "120/120 [==============================] - 38s 316ms/step - loss: 0.0250 - accuracy: 0.9911 - precision_2: 0.9912 - recall_2: 0.9910 - val_loss: 0.0421 - val_accuracy: 0.9831 - val_precision_2: 0.9831 - val_recall_2: 0.9820\n",
      "Epoch 23/50\n",
      "120/120 [==============================] - 38s 316ms/step - loss: 0.0352 - accuracy: 0.9893 - precision_2: 0.9895 - recall_2: 0.9893 - val_loss: 0.0293 - val_accuracy: 0.9944 - val_precision_2: 0.9944 - val_recall_2: 0.9944\n",
      "Epoch 24/50\n",
      "120/120 [==============================] - 38s 315ms/step - loss: 0.0269 - accuracy: 0.9875 - precision_2: 0.9875 - recall_2: 0.9874 - val_loss: 0.0190 - val_accuracy: 0.9966 - val_precision_2: 0.9966 - val_recall_2: 0.9966\n",
      "Epoch 25/50\n",
      "120/120 [==============================] - 38s 314ms/step - loss: 0.0257 - accuracy: 0.9920 - precision_2: 0.9920 - recall_2: 0.9914 - val_loss: 0.0287 - val_accuracy: 0.9888 - val_precision_2: 0.9888 - val_recall_2: 0.9888\n",
      "Epoch 26/50\n",
      "120/120 [==============================] - 38s 315ms/step - loss: 0.0220 - accuracy: 0.9897 - precision_2: 0.9900 - recall_2: 0.9897 - val_loss: 0.0337 - val_accuracy: 0.9933 - val_precision_2: 0.9933 - val_recall_2: 0.9933\n",
      "Epoch 27/50\n",
      "120/120 [==============================] - 38s 320ms/step - loss: 0.0185 - accuracy: 0.9950 - precision_2: 0.9950 - recall_2: 0.9949 - val_loss: 0.0181 - val_accuracy: 0.9944 - val_precision_2: 0.9944 - val_recall_2: 0.9944\n",
      "Epoch 28/50\n",
      "120/120 [==============================] - 38s 317ms/step - loss: 0.0213 - accuracy: 0.9932 - precision_2: 0.9932 - recall_2: 0.9931 - val_loss: 0.0211 - val_accuracy: 0.9944 - val_precision_2: 0.9944 - val_recall_2: 0.9944\n",
      "Epoch 29/50\n",
      "120/120 [==============================] - 38s 318ms/step - loss: 0.0306 - accuracy: 0.9892 - precision_2: 0.9894 - recall_2: 0.9888 - val_loss: 0.0331 - val_accuracy: 0.9899 - val_precision_2: 0.9899 - val_recall_2: 0.9899\n",
      "Epoch 30/50\n",
      "120/120 [==============================] - 38s 314ms/step - loss: 0.0295 - accuracy: 0.9911 - precision_2: 0.9914 - recall_2: 0.9911 - val_loss: 0.0149 - val_accuracy: 0.9955 - val_precision_2: 0.9955 - val_recall_2: 0.9955\n",
      "Epoch 31/50\n",
      "120/120 [==============================] - 38s 316ms/step - loss: 0.0231 - accuracy: 0.9927 - precision_2: 0.9930 - recall_2: 0.9923 - val_loss: 0.0623 - val_accuracy: 0.9820 - val_precision_2: 0.9831 - val_recall_2: 0.9820\n",
      "Epoch 32/50\n",
      "120/120 [==============================] - 38s 317ms/step - loss: 0.0251 - accuracy: 0.9918 - precision_2: 0.9925 - recall_2: 0.9918 - val_loss: 0.0132 - val_accuracy: 0.9955 - val_precision_2: 0.9955 - val_recall_2: 0.9955\n",
      "Epoch 33/50\n",
      "120/120 [==============================] - 38s 315ms/step - loss: 0.0107 - accuracy: 0.9973 - precision_2: 0.9974 - recall_2: 0.9973 - val_loss: 0.0416 - val_accuracy: 0.9921 - val_precision_2: 0.9921 - val_recall_2: 0.9921\n",
      "Epoch 34/50\n",
      "120/120 [==============================] - 38s 316ms/step - loss: 0.0331 - accuracy: 0.9914 - precision_2: 0.9916 - recall_2: 0.9914 - val_loss: 0.0450 - val_accuracy: 0.9876 - val_precision_2: 0.9888 - val_recall_2: 0.9876\n",
      "Epoch 35/50\n",
      "120/120 [==============================] - 38s 315ms/step - loss: 0.0217 - accuracy: 0.9918 - precision_2: 0.9918 - recall_2: 0.9918 - val_loss: 0.0183 - val_accuracy: 0.9966 - val_precision_2: 0.9966 - val_recall_2: 0.9955\n",
      "Epoch 36/50\n",
      "120/120 [==============================] - 38s 316ms/step - loss: 0.0258 - accuracy: 0.9926 - precision_2: 0.9927 - recall_2: 0.9926 - val_loss: 0.0211 - val_accuracy: 0.9921 - val_precision_2: 0.9921 - val_recall_2: 0.9921\n",
      "Epoch 37/50\n",
      "120/120 [==============================] - 38s 316ms/step - loss: 0.0271 - accuracy: 0.9940 - precision_2: 0.9940 - recall_2: 0.9940 - val_loss: 0.0297 - val_accuracy: 0.9921 - val_precision_2: 0.9921 - val_recall_2: 0.9910\n",
      "Epoch 38/50\n",
      "120/120 [==============================] - 38s 317ms/step - loss: 0.0224 - accuracy: 0.9919 - precision_2: 0.9919 - recall_2: 0.9916 - val_loss: 0.0141 - val_accuracy: 0.9955 - val_precision_2: 0.9955 - val_recall_2: 0.9944\n",
      "Epoch 39/50\n",
      "120/120 [==============================] - 39s 322ms/step - loss: 0.0205 - accuracy: 0.9939 - precision_2: 0.9939 - recall_2: 0.9939 - val_loss: 0.0154 - val_accuracy: 0.9955 - val_precision_2: 0.9955 - val_recall_2: 0.9955\n",
      "Epoch 40/50\n",
      "120/120 [==============================] - 38s 319ms/step - loss: 0.0230 - accuracy: 0.9946 - precision_2: 0.9952 - recall_2: 0.9946 - val_loss: 0.0175 - val_accuracy: 0.9944 - val_precision_2: 0.9944 - val_recall_2: 0.9944\n",
      "Epoch 41/50\n",
      "120/120 [==============================] - 39s 323ms/step - loss: 0.0124 - accuracy: 0.9956 - precision_2: 0.9958 - recall_2: 0.9953 - val_loss: 0.0504 - val_accuracy: 0.9876 - val_precision_2: 0.9888 - val_recall_2: 0.9876\n",
      "Epoch 42/50\n",
      "120/120 [==============================] - 39s 321ms/step - loss: 0.0179 - accuracy: 0.9937 - precision_2: 0.9937 - recall_2: 0.9937 - val_loss: 0.0052 - val_accuracy: 0.9978 - val_precision_2: 0.9978 - val_recall_2: 0.9978\n",
      "Epoch 43/50\n",
      "120/120 [==============================] - 38s 314ms/step - loss: 0.0092 - accuracy: 0.9967 - precision_2: 0.9967 - recall_2: 0.9967 - val_loss: 0.0166 - val_accuracy: 0.9944 - val_precision_2: 0.9944 - val_recall_2: 0.9944\n",
      "Epoch 44/50\n",
      "120/120 [==============================] - 38s 315ms/step - loss: 0.0234 - accuracy: 0.9927 - precision_2: 0.9928 - recall_2: 0.9925 - val_loss: 0.0145 - val_accuracy: 0.9944 - val_precision_2: 0.9944 - val_recall_2: 0.9944\n",
      "Epoch 45/50\n",
      "120/120 [==============================] - 38s 314ms/step - loss: 0.0063 - accuracy: 0.9988 - precision_2: 0.9988 - recall_2: 0.9988 - val_loss: 0.0183 - val_accuracy: 0.9955 - val_precision_2: 0.9955 - val_recall_2: 0.9955\n",
      "Epoch 46/50\n",
      "120/120 [==============================] - 38s 315ms/step - loss: 0.0206 - accuracy: 0.9931 - precision_2: 0.9931 - recall_2: 0.9929 - val_loss: 0.0309 - val_accuracy: 0.9899 - val_precision_2: 0.9899 - val_recall_2: 0.9899\n",
      "Epoch 47/50\n",
      "120/120 [==============================] - 38s 315ms/step - loss: 0.0186 - accuracy: 0.9947 - precision_2: 0.9947 - recall_2: 0.9947 - val_loss: 0.0289 - val_accuracy: 0.9910 - val_precision_2: 0.9921 - val_recall_2: 0.9910\n",
      "Epoch 48/50\n",
      "120/120 [==============================] - 38s 317ms/step - loss: 0.0162 - accuracy: 0.9944 - precision_2: 0.9946 - recall_2: 0.9944 - val_loss: 0.0233 - val_accuracy: 0.9921 - val_precision_2: 0.9933 - val_recall_2: 0.9921\n",
      "Epoch 49/50\n",
      "120/120 [==============================] - 38s 315ms/step - loss: 0.0127 - accuracy: 0.9971 - precision_2: 0.9971 - recall_2: 0.9971 - val_loss: 0.0420 - val_accuracy: 0.9933 - val_precision_2: 0.9933 - val_recall_2: 0.9933\n",
      "Epoch 50/50\n",
      "120/120 [==============================] - 38s 316ms/step - loss: 0.0273 - accuracy: 0.9932 - precision_2: 0.9934 - recall_2: 0.9922 - val_loss: 0.0512 - val_accuracy: 0.9876 - val_precision_2: 0.9876 - val_recall_2: 0.9876\n"
     ]
    }
   ],
   "source": [
    "results = model.fit(x=train_image_gen,\n",
    "                  epochs= 50,\n",
    "                  validation_data= test_image_gen)"
   ]
  },
  {
   "cell_type": "code",
   "execution_count": 46,
   "metadata": {},
   "outputs": [
    {
     "name": "stdout",
     "output_type": "stream",
     "text": [
      "Found 890 images belonging to 3 classes.\n",
      "imgs = (890, 100, 100, 1), labels = (890,)\n",
      "(890,)\n",
      "              precision    recall  f1-score   support\n",
      "\n",
      "       boost       1.00      0.99      0.99       298\n",
      "       click       0.99      1.00      0.99       296\n",
      "     upgrade       1.00      1.00      1.00       296\n",
      "\n",
      "    accuracy                           0.99       890\n",
      "   macro avg       0.99      0.99      0.99       890\n",
      "weighted avg       0.99      0.99      0.99       890\n",
      "\n"
     ]
    }
   ],
   "source": [
    "\n",
    "test_image_gen1 = image_gen.flow_from_directory(r'D:\\vscode workspace\\cv project\\src\\Video\\Images\\test',\n",
    "                                               target_size= INPUT_SHAPE[:2],\n",
    "                                               class_mode =  'categorical',\n",
    "                                               color_mode =  'grayscale',\n",
    "                                               batch_size =  1000\n",
    "                                            )\n",
    "imgs, labels = test_image_gen1.next()\n",
    "labels = np.argmax(labels, axis=-1)\n",
    "print(f'imgs = {imgs.shape}, labels = {labels.shape}')\n",
    "\n",
    "predictions = np.argmax(model.predict(imgs), axis= -1)\n",
    "print(predictions.shape)\n",
    "\n",
    "\n",
    "print(classification_report(labels, predictions,\n",
    "                            target_names= ['boost', 'click', 'upgrade']))"
   ]
  },
  {
   "cell_type": "code",
   "execution_count": 47,
   "metadata": {},
   "outputs": [],
   "source": [
    "model.save(os.path.normpath('D:\\\\vscode workspace\\\\cv project\\\\src\\\\Video\\\\Models\\\\bigmodel.h5'))"
   ]
  },
  {
   "cell_type": "code",
   "execution_count": null,
   "metadata": {},
   "outputs": [],
   "source": []
  },
  {
   "cell_type": "code",
   "execution_count": null,
   "metadata": {},
   "outputs": [],
   "source": []
  },
  {
   "cell_type": "code",
   "execution_count": null,
   "metadata": {},
   "outputs": [],
   "source": []
  }
 ],
 "metadata": {
  "kernelspec": {
   "display_name": "Python 3",
   "language": "python",
   "name": "python3"
  },
  "language_info": {
   "codemirror_mode": {
    "name": "ipython",
    "version": 3
   },
   "file_extension": ".py",
   "mimetype": "text/x-python",
   "name": "python",
   "nbconvert_exporter": "python",
   "pygments_lexer": "ipython3",
   "version": "3.8.5"
  }
 },
 "nbformat": 4,
 "nbformat_minor": 4
}
