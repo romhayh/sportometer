{
 "cells": [
  {
   "cell_type": "code",
   "execution_count": 1,
   "metadata": {},
   "outputs": [],
   "source": [
    "import tensorflow as tf"
   ]
  },
  {
   "cell_type": "code",
   "execution_count": 2,
   "metadata": {},
   "outputs": [],
   "source": [
    "from tensorflow.keras.layers import Dense, Conv2D, MaxPooling2D, Dense, Flatten, Dropout,AveragePooling2D"
   ]
  },
  {
   "cell_type": "code",
   "execution_count": 3,
   "metadata": {},
   "outputs": [],
   "source": [
    "from tensorflow.keras.models import Sequential"
   ]
  },
  {
   "cell_type": "code",
   "execution_count": 4,
   "metadata": {},
   "outputs": [],
   "source": [
    "from tensorflow.keras.preprocessing.image import ImageDataGenerator"
   ]
  },
  {
   "cell_type": "code",
   "execution_count": 5,
   "metadata": {},
   "outputs": [],
   "source": [
    "from tensorflow import keras"
   ]
  },
  {
   "cell_type": "code",
   "execution_count": 6,
   "metadata": {},
   "outputs": [],
   "source": [
    "from sklearn.metrics import classification_report"
   ]
  },
  {
   "cell_type": "code",
   "execution_count": 7,
   "metadata": {},
   "outputs": [],
   "source": [
    "from math import ceil"
   ]
  },
  {
   "cell_type": "code",
   "execution_count": 8,
   "metadata": {},
   "outputs": [],
   "source": [
    "from itertools import islice"
   ]
  },
  {
   "cell_type": "markdown",
   "metadata": {},
   "source": [
    "# Look at the data to see how to adjust it"
   ]
  },
  {
   "cell_type": "code",
   "execution_count": 9,
   "metadata": {},
   "outputs": [],
   "source": [
    "import cv2\n",
    "import numpy as np\n",
    "import matplotlib.pyplot as plt\n",
    "%matplotlib inline\n",
    "import os\n",
    "import random"
   ]
  },
  {
   "cell_type": "markdown",
   "metadata": {},
   "source": [
    "take a look at a random image"
   ]
  },
  {
   "cell_type": "code",
   "execution_count": 10,
   "metadata": {},
   "outputs": [],
   "source": [
    "listdir = os.listdir(r'D:\\vscode workspace\\cv project\\src\\Video\\Images\\train\\boost')"
   ]
  },
  {
   "cell_type": "code",
   "execution_count": 11,
   "metadata": {},
   "outputs": [],
   "source": [
    "path = random.choice(listdir)"
   ]
  },
  {
   "cell_type": "code",
   "execution_count": 12,
   "metadata": {},
   "outputs": [
    {
     "data": {
      "text/plain": [
       "'b8i41.png'"
      ]
     },
     "execution_count": 12,
     "metadata": {},
     "output_type": "execute_result"
    }
   ],
   "source": [
    "path"
   ]
  },
  {
   "cell_type": "code",
   "execution_count": 13,
   "metadata": {},
   "outputs": [],
   "source": [
    "img = cv2.imread(r'D:\\vscode workspace\\cv project\\src\\Video\\Images\\train\\boost\\\\' + path)"
   ]
  },
  {
   "cell_type": "code",
   "execution_count": 14,
   "metadata": {},
   "outputs": [
    {
     "data": {
      "text/plain": [
       "array([[[0, 0, 0],\n",
       "        [0, 0, 0],\n",
       "        [0, 0, 0],\n",
       "        ...,\n",
       "        [0, 0, 0],\n",
       "        [0, 0, 0],\n",
       "        [0, 0, 0]],\n",
       "\n",
       "       [[0, 0, 0],\n",
       "        [0, 0, 0],\n",
       "        [0, 0, 0],\n",
       "        ...,\n",
       "        [0, 0, 0],\n",
       "        [0, 0, 0],\n",
       "        [0, 0, 0]],\n",
       "\n",
       "       [[0, 0, 0],\n",
       "        [0, 0, 0],\n",
       "        [0, 0, 0],\n",
       "        ...,\n",
       "        [0, 0, 0],\n",
       "        [0, 0, 0],\n",
       "        [0, 0, 0]],\n",
       "\n",
       "       ...,\n",
       "\n",
       "       [[0, 0, 0],\n",
       "        [0, 0, 0],\n",
       "        [0, 0, 0],\n",
       "        ...,\n",
       "        [0, 0, 0],\n",
       "        [0, 0, 0],\n",
       "        [0, 0, 0]],\n",
       "\n",
       "       [[0, 0, 0],\n",
       "        [0, 0, 0],\n",
       "        [0, 0, 0],\n",
       "        ...,\n",
       "        [0, 0, 0],\n",
       "        [0, 0, 0],\n",
       "        [0, 0, 0]],\n",
       "\n",
       "       [[0, 0, 0],\n",
       "        [0, 0, 0],\n",
       "        [0, 0, 0],\n",
       "        ...,\n",
       "        [0, 0, 0],\n",
       "        [0, 0, 0],\n",
       "        [0, 0, 0]]], dtype=uint8)"
      ]
     },
     "execution_count": 14,
     "metadata": {},
     "output_type": "execute_result"
    }
   ],
   "source": [
    "img"
   ]
  },
  {
   "cell_type": "code",
   "execution_count": 15,
   "metadata": {},
   "outputs": [
    {
     "data": {
      "text/plain": [
       "<matplotlib.image.AxesImage at 0x206fb45b5b0>"
      ]
     },
     "execution_count": 15,
     "metadata": {},
     "output_type": "execute_result"
    },
    {
     "data": {
      "image/png": "[encoded data removed]",
      "text/plain": [
       "<Figure size 432x288 with 1 Axes>"
      ]
     },
     "metadata": {
      "needs_background": "light"
     },
     "output_type": "display_data"
    }
   ],
   "source": [
    "plt.imshow(img, cmap='gray')"
   ]
  },
  {
   "cell_type": "code",
   "execution_count": 16,
   "metadata": {},
   "outputs": [
    {
     "data": {
      "text/plain": [
       "255"
      ]
     },
     "execution_count": 16,
     "metadata": {},
     "output_type": "execute_result"
    }
   ],
   "source": [
    "img.max()"
   ]
  },
  {
   "cell_type": "markdown",
   "metadata": {},
   "source": [
    "we will need to shift the values from `[0, 255]` to `[0, 1]`"
   ]
  },
  {
   "cell_type": "markdown",
   "metadata": {},
   "source": [
    "# Load the data from the folders\n",
    "### by using keras preprocessing tools"
   ]
  },
  {
   "cell_type": "markdown",
   "metadata": {},
   "source": [
    "make an image data generator to make the machine more robust"
   ]
  },
  {
   "cell_type": "code",
   "execution_count": 17,
   "metadata": {},
   "outputs": [],
   "source": [
    "image_gen = ImageDataGenerator(\n",
    "    rotation_range= 35,\n",
    "    height_shift_range= 0.3,\n",
    "    width_shift_range= 0.2,\n",
    "    zoom_range= 0.3,\n",
    "    horizontal_flip= True,\n",
    "    vertical_flip= True,\n",
    "    fill_mode='constant',\n",
    "    cval= 0.0,\n",
    "    rescale= 1/255  # shifting the values range                               \n",
    ")"
   ]
  },
  {
   "cell_type": "code",
   "execution_count": 18,
   "metadata": {},
   "outputs": [
    {
     "data": {
      "text/plain": [
       "<matplotlib.image.AxesImage at 0x206fb775e80>"
      ]
     },
     "execution_count": 18,
     "metadata": {},
     "output_type": "execute_result"
    },
    {
     "data": {
      "image/png": "[encoded data removed]",
      "text/plain": [
       "<Figure size 432x288 with 1 Axes>"
      ]
     },
     "metadata": {
      "needs_background": "light"
     },
     "output_type": "display_data"
    }
   ],
   "source": [
    "plt.imshow(image_gen.random_transform(img), 'gray')"
   ]
  },
  {
   "cell_type": "code",
   "execution_count": 19,
   "metadata": {},
   "outputs": [],
   "source": [
    "INPUT_SHAPE = (100, 100, 1)"
   ]
  },
  {
   "cell_type": "markdown",
   "metadata": {},
   "source": [
    "load the data from the folders and invoke the transformations on it"
   ]
  },
  {
   "cell_type": "code",
   "execution_count": 21,
   "metadata": {},
   "outputs": [
    {
     "name": "stdout",
     "output_type": "stream",
     "text": [
      "Found 5748 images belonging to 3 classes.\n",
      "Found 888 images belonging to 3 classes.\n"
     ]
    }
   ],
   "source": [
    "batch_size = 48\n",
    "train_image_gen = image_gen.flow_from_directory(\n",
    "    r'D:\\vscode workspace\\cv project\\src\\Video\\Images\\train',\n",
    "    # the picture size is (100, 100)\n",
    "    target_size= INPUT_SHAPE[:2],\n",
    "    # there are 3 classes \n",
    "    class_mode='categorical',\n",
    "    color_mode= 'grayscale',\n",
    "    # when the fit function will request images, \n",
    "    # this generator will give it a tensor of \n",
    "    # 24 images\n",
    "    batch_size=batch_size\n",
    "    )\n",
    "\n",
    "test_image_gen = image_gen.flow_from_directory(\n",
    "    r'D:\\vscode workspace\\cv project\\src\\Video\\Images\\test',\n",
    "    target_size= INPUT_SHAPE[:2],\n",
    "    class_mode='categorical',\n",
    "    color_mode= 'grayscale',\n",
    "    batch_size=batch_size\n",
    "    )"
   ]
  },
  {
   "cell_type": "code",
   "execution_count": 22,
   "metadata": {},
   "outputs": [
    {
     "data": {
      "text/plain": [
       "<tensorflow.python.keras.preprocessing.image.DirectoryIterator at 0x206fb7aa400>"
      ]
     },
     "execution_count": 22,
     "metadata": {},
     "output_type": "execute_result"
    }
   ],
   "source": [
    "train_image_gen"
   ]
  },
  {
   "cell_type": "code",
   "execution_count": 23,
   "metadata": {},
   "outputs": [
    {
     "data": {
      "text/plain": [
       "{'boost': 0, 'click': 1, 'upgrade': 2}"
      ]
     },
     "execution_count": 23,
     "metadata": {},
     "output_type": "execute_result"
    }
   ],
   "source": [
    "train_image_gen.class_indices"
   ]
  },
  {
   "cell_type": "markdown",
   "metadata": {},
   "source": [
    "# Create the model\n",
    "\n",
    "\n",
    "\n",
    "\n",
    "  \n",
    "\n",
    "  "
   ]
  },
  {
   "cell_type": "code",
   "execution_count": 23,
   "metadata": {},
   "outputs": [],
   "source": [
    "model = Sequential()\n",
    "\n",
    "model.add(Conv2D(filters=32, kernel_size=(3,3), activation= 'relu'))\n",
    "\n",
    "model.add(MaxPooling2D(pool_size=(2,2)))\n",
    "\n",
    "model.add(Flatten())\n",
    "\n",
    "model.add(Dense(128, activation='relu'))\n",
    "\n",
    "model.add(Dense(128, activation='relu'))\n",
    "\n",
    "model.add(Dropout(0.5))\n",
    "\n",
    "# the output layer:\n",
    "# it will return a 3 float-type list\n",
    "# at the 0th index will be the probability that the img is a boost\n",
    "# at the 1st index will be the probability that the img is a click\n",
    "# at the 2nd index will be the probability that the img is an upgrade\n",
    "model.add(Dense(3, activation='softmax'))"
   ]
  },
  {
   "cell_type": "code",
   "execution_count": 24,
   "metadata": {},
   "outputs": [],
   "source": [
    "model.compile(\n",
    "    # this loss function categorical because there are \n",
    "    # more than 2 classes to classify between\n",
    "    loss='categorical_crossentropy',\n",
    "    optimizer= 'adam',\n",
    "    metrics=['accuracy', tf.keras.metrics.Precision(), tf.keras.metrics.Recall()])"
   ]
  },
  {
   "cell_type": "markdown",
   "metadata": {},
   "source": [
    "## Train the model\n",
    "### using the image generator"
   ]
  },
  {
   "cell_type": "code",
   "execution_count": 25,
   "metadata": {},
   "outputs": [
    {
     "name": "stdout",
     "output_type": "stream",
     "text": [
      "Epoch 1/25\n",
      "240/240 [==============================] - 53s 213ms/step - loss: 0.7901 - accuracy: 0.6243 - precision: 0.6686 - recall: 0.5248 - val_loss: 0.4728 - val_accuracy: 0.8097 - val_precision: 0.8260 - val_recall: 0.7804\n",
      "Epoch 2/25\n",
      "240/240 [==============================] - 22s 93ms/step - loss: 0.5331 - accuracy: 0.7703 - precision: 0.7862 - recall: 0.7497 - val_loss: 0.4375 - val_accuracy: 0.8007 - val_precision: 0.8092 - val_recall: 0.7928\n",
      "Epoch 3/25\n",
      "240/240 [==============================] - 22s 92ms/step - loss: 0.4671 - accuracy: 0.8123 - precision: 0.8224 - recall: 0.7908 - val_loss: 0.3630 - val_accuracy: 0.8615 - val_precision: 0.8669 - val_recall: 0.8435\n",
      "Epoch 4/25\n",
      "240/240 [==============================] - 22s 93ms/step - loss: 0.4466 - accuracy: 0.8110 - precision: 0.8219 - recall: 0.7960 - val_loss: 0.3557 - val_accuracy: 0.8502 - val_precision: 0.8558 - val_recall: 0.8423\n",
      "Epoch 5/25\n",
      "240/240 [==============================] - 23s 94ms/step - loss: 0.4007 - accuracy: 0.8325 - precision: 0.8413 - recall: 0.8189 - val_loss: 0.3388 - val_accuracy: 0.8682 - val_precision: 0.8773 - val_recall: 0.8615\n",
      "Epoch 6/25\n",
      "240/240 [==============================] - 22s 93ms/step - loss: 0.3894 - accuracy: 0.8348 - precision: 0.8440 - recall: 0.8273 - val_loss: 0.3380 - val_accuracy: 0.8536 - val_precision: 0.8656 - val_recall: 0.8412\n",
      "Epoch 7/25\n",
      "240/240 [==============================] - 22s 93ms/step - loss: 0.3816 - accuracy: 0.8431 - precision: 0.8534 - recall: 0.8327 - val_loss: 0.2855 - val_accuracy: 0.8930 - val_precision: 0.9037 - val_recall: 0.8773\n",
      "Epoch 8/25\n",
      "240/240 [==============================] - 23s 94ms/step - loss: 0.3505 - accuracy: 0.8586 - precision: 0.8667 - recall: 0.8487 - val_loss: 0.3707 - val_accuracy: 0.8637 - val_precision: 0.8680 - val_recall: 0.8592\n",
      "Epoch 9/25\n",
      "240/240 [==============================] - 23s 96ms/step - loss: 0.3448 - accuracy: 0.8571 - precision: 0.8686 - recall: 0.8500 - val_loss: 0.2850 - val_accuracy: 0.8851 - val_precision: 0.8944 - val_recall: 0.8773\n",
      "Epoch 10/25\n",
      "240/240 [==============================] - 23s 94ms/step - loss: 0.3331 - accuracy: 0.8649 - precision: 0.8721 - recall: 0.8558 - val_loss: 0.3127 - val_accuracy: 0.8840 - val_precision: 0.8841 - val_recall: 0.8761\n",
      "Epoch 11/25\n",
      "240/240 [==============================] - 23s 96ms/step - loss: 0.3500 - accuracy: 0.8578 - precision: 0.8669 - recall: 0.8529 - val_loss: 0.3230 - val_accuracy: 0.8750 - val_precision: 0.8801 - val_recall: 0.8682\n",
      "Epoch 12/25\n",
      "240/240 [==============================] - 23s 94ms/step - loss: 0.3288 - accuracy: 0.8663 - precision: 0.8721 - recall: 0.8552 - val_loss: 0.2591 - val_accuracy: 0.8964 - val_precision: 0.9032 - val_recall: 0.8930\n",
      "Epoch 13/25\n",
      "240/240 [==============================] - 23s 95ms/step - loss: 0.3114 - accuracy: 0.8763 - precision: 0.8826 - recall: 0.8679 - val_loss: 0.2522 - val_accuracy: 0.9032 - val_precision: 0.9067 - val_recall: 0.8975\n",
      "Epoch 14/25\n",
      "240/240 [==============================] - 22s 94ms/step - loss: 0.3000 - accuracy: 0.8798 - precision: 0.8862 - recall: 0.8701 - val_loss: 0.2887 - val_accuracy: 0.8863 - val_precision: 0.8923 - val_recall: 0.8773\n",
      "Epoch 15/25\n",
      "240/240 [==============================] - 23s 94ms/step - loss: 0.2981 - accuracy: 0.8773 - precision: 0.8855 - recall: 0.8701 - val_loss: 0.2343 - val_accuracy: 0.9099 - val_precision: 0.9169 - val_recall: 0.9065\n",
      "Epoch 16/25\n",
      "240/240 [==============================] - 23s 94ms/step - loss: 0.2775 - accuracy: 0.8960 - precision: 0.8993 - recall: 0.8913 - val_loss: 0.2435 - val_accuracy: 0.9088 - val_precision: 0.9153 - val_recall: 0.9009\n",
      "Epoch 17/25\n",
      "240/240 [==============================] - 22s 93ms/step - loss: 0.2949 - accuracy: 0.8869 - precision: 0.8941 - recall: 0.8820 - val_loss: 0.2999 - val_accuracy: 0.8682 - val_precision: 0.8734 - val_recall: 0.8626\n",
      "Epoch 18/25\n",
      "240/240 [==============================] - 23s 94ms/step - loss: 0.3021 - accuracy: 0.8817 - precision: 0.8883 - recall: 0.8750 - val_loss: 0.3046 - val_accuracy: 0.8795 - val_precision: 0.8817 - val_recall: 0.8727\n",
      "Epoch 19/25\n",
      "240/240 [==============================] - 23s 96ms/step - loss: 0.2571 - accuracy: 0.9008 - precision: 0.9076 - recall: 0.8970 - val_loss: 0.2693 - val_accuracy: 0.8874 - val_precision: 0.8907 - val_recall: 0.8806\n",
      "Epoch 20/25\n",
      "240/240 [==============================] - 22s 93ms/step - loss: 0.2778 - accuracy: 0.8957 - precision: 0.9029 - recall: 0.8858 - val_loss: 0.2817 - val_accuracy: 0.8885 - val_precision: 0.8946 - val_recall: 0.8795\n",
      "Epoch 21/25\n",
      "240/240 [==============================] - 23s 95ms/step - loss: 0.2721 - accuracy: 0.8973 - precision: 0.9027 - recall: 0.8910 - val_loss: 0.2745 - val_accuracy: 0.8840 - val_precision: 0.8869 - val_recall: 0.8829\n",
      "Epoch 22/25\n",
      "240/240 [==============================] - 23s 96ms/step - loss: 0.2735 - accuracy: 0.8938 - precision: 0.8987 - recall: 0.8892 - val_loss: 0.2150 - val_accuracy: 0.9133 - val_precision: 0.9152 - val_recall: 0.9110\n",
      "Epoch 23/25\n",
      "240/240 [==============================] - 23s 96ms/step - loss: 0.2558 - accuracy: 0.9068 - precision: 0.9112 - recall: 0.9025 - val_loss: 0.2578 - val_accuracy: 0.8975 - val_precision: 0.9042 - val_recall: 0.8930\n",
      "Epoch 24/25\n",
      "240/240 [==============================] - 23s 95ms/step - loss: 0.2484 - accuracy: 0.8968 - precision: 0.9001 - recall: 0.8888 - val_loss: 0.2728 - val_accuracy: 0.8953 - val_precision: 0.8962 - val_recall: 0.8941\n",
      "Epoch 25/25\n",
      "240/240 [==============================] - 23s 94ms/step - loss: 0.2434 - accuracy: 0.9069 - precision: 0.9115 - recall: 0.9020 - val_loss: 0.2670 - val_accuracy: 0.8986 - val_precision: 0.9084 - val_recall: 0.8930\n"
     ]
    }
   ],
   "source": [
    "results = model.fit(x=train_image_gen,\n",
    "                  epochs= 25,\n",
    "                  validation_data= test_image_gen)"
   ]
  },
  {
   "cell_type": "markdown",
   "metadata": {},
   "source": [
    "# Tests and Performance"
   ]
  },
  {
   "cell_type": "code",
   "execution_count": 26,
   "metadata": {},
   "outputs": [
    {
     "name": "stdout",
     "output_type": "stream",
     "text": [
      "37/37 - 1s - loss: 0.2327 - accuracy: 0.9088 - precision: 0.9106 - recall: 0.9065\n"
     ]
    }
   ],
   "source": [
    "test_loss, test_pre, test_rec, test_acc = model.evaluate(test_image_gen, verbose=2)"
   ]
  },
  {
   "cell_type": "code",
   "execution_count": 27,
   "metadata": {},
   "outputs": [
    {
     "name": "stdout",
     "output_type": "stream",
     "text": [
      "Found 888 images belonging to 3 classes.\n",
      "imgs = (100, 100, 100, 1), labels = (100,)\n",
      "(100,)\n",
      "              precision    recall  f1-score   support\n",
      "\n",
      "       boost       1.00      1.00      1.00        34\n",
      "       click       0.88      1.00      0.94        30\n",
      "     upgrade       1.00      0.89      0.94        36\n",
      "\n",
      "    accuracy                           0.96       100\n",
      "   macro avg       0.96      0.96      0.96       100\n",
      "weighted avg       0.96      0.96      0.96       100\n",
      "\n"
     ]
    }
   ],
   "source": [
    "test_image_gen = image_gen.flow_from_directory(r'D:\\vscode workspace\\cv project\\src\\Video\\Images\\test',\n",
    "                                               target_size= INPUT_SHAPE[:2],\n",
    "                                               class_mode =  'categorical',\n",
    "                                               color_mode =  'grayscale',\n",
    "                                               batch_size =  100\n",
    "                                            )\n",
    "imgs, labels = test_image_gen.next()\n",
    "labels = np.argmax(labels, axis=-1)\n",
    "print(f'imgs = {imgs.shape}, labels = {labels.shape}')\n",
    "\n",
    "predictions = np.argmax(model.predict(imgs), axis= -1)\n",
    "print(predictions.shape)\n",
    "\n",
    "\n",
    "print(classification_report(labels, predictions,\n",
    "                            target_names= ['boost', 'click', 'upgrade']))"
   ]
  },
  {
   "cell_type": "code",
   "execution_count": 28,
   "metadata": {},
   "outputs": [],
   "source": [
    "# get a random image\n",
    "listdir = os.listdir(r'D:\\vscode workspace\\cv project\\src\\Video\\Images\\test\\boost')\n",
    "image = random.choice(listdir)\n",
    "\n",
    "path = os.path.normpath(r'D:\\vscode workspace\\cv project\\src\\Video\\Images\\test\\boost' + '\\\\' + image)\n",
    "img = cv2.imread(path)"
   ]
  },
  {
   "cell_type": "code",
   "execution_count": 29,
   "metadata": {},
   "outputs": [
    {
     "data": {
      "text/plain": [
       "<matplotlib.image.AxesImage at 0x266096204c0>"
      ]
     },
     "execution_count": 29,
     "metadata": {},
     "output_type": "execute_result"
    },
    {
     "data": {
      "image/png": "[encoded data removed]",
      "text/plain": [
       "<Figure size 432x288 with 1 Axes>"
      ]
     },
     "metadata": {
      "needs_background": "light"
     },
     "output_type": "display_data"
    }
   ],
   "source": [
    "plt.imshow(img, 'gray')"
   ]
  },
  {
   "cell_type": "code",
   "execution_count": 30,
   "metadata": {},
   "outputs": [],
   "source": [
    "img = cv2.cvtColor(img, cv2.COLOR_BGR2GRAY)/ 255"
   ]
  },
  {
   "cell_type": "code",
   "execution_count": 31,
   "metadata": {},
   "outputs": [
    {
     "name": "stdout",
     "output_type": "stream",
     "text": [
      "(100, 100)\n",
      "(1, 100, 100, 1)\n"
     ]
    }
   ],
   "source": [
    "print(img.shape)\n",
    "img = img.reshape((1,100, 100, 1))\n",
    "print(img.shape)"
   ]
  },
  {
   "cell_type": "code",
   "execution_count": 32,
   "metadata": {},
   "outputs": [
    {
     "data": {
      "text/plain": [
       "0"
      ]
     },
     "execution_count": 32,
     "metadata": {},
     "output_type": "execute_result"
    }
   ],
   "source": [
    "np.argmax(model.predict(img)) # 0 for boost (jump)"
   ]
  },
  {
   "cell_type": "code",
   "execution_count": 34,
   "metadata": {},
   "outputs": [
    {
     "data": {
      "text/plain": [
       "[<matplotlib.lines.Line2D at 0x266096b1820>]"
      ]
     },
     "execution_count": 34,
     "metadata": {},
     "output_type": "execute_result"
    },
    {
     "data": {
      "image/png": "[encoded data removed]",
      "text/plain": [
       "<Figure size 432x288 with 1 Axes>"
      ]
     },
     "metadata": {
      "needs_background": "light"
     },
     "output_type": "display_data"
    }
   ],
   "source": [
    "plt.plot(results.history['precision'])"
   ]
  },
  {
   "cell_type": "code",
   "execution_count": 35,
   "metadata": {},
   "outputs": [
    {
     "data": {
      "text/plain": [
       "[<matplotlib.lines.Line2D at 0x2660965ab80>]"
      ]
     },
     "execution_count": 35,
     "metadata": {},
     "output_type": "execute_result"
    },
    {
     "data": {
      "image/png": "[encoded data removed]",
      "text/plain": [
       "<Figure size 432x288 with 1 Axes>"
      ]
     },
     "metadata": {
      "needs_background": "light"
     },
     "output_type": "display_data"
    }
   ],
   "source": [
    "plt.plot(results.history['accuracy'])"
   ]
  },
  {
   "cell_type": "code",
   "execution_count": 36,
   "metadata": {},
   "outputs": [
    {
     "data": {
      "text/plain": [
       "[<matplotlib.lines.Line2D at 0x26609731130>]"
      ]
     },
     "execution_count": 36,
     "metadata": {},
     "output_type": "execute_result"
    },
    {
     "data": {
      "image/png": "[encoded data removed]",
      "text/plain": [
       "<Figure size 432x288 with 1 Axes>"
      ]
     },
     "metadata": {
      "needs_background": "light"
     },
     "output_type": "display_data"
    }
   ],
   "source": [
    "plt.plot(results.history['recall'])"
   ]
  },
  {
   "cell_type": "markdown",
   "metadata": {},
   "source": [
    "# Save the model"
   ]
  },
  {
   "cell_type": "code",
   "execution_count": 37,
   "metadata": {},
   "outputs": [],
   "source": [
    "model.save(os.path.normpath('D:\\\\vscode workspace\\\\cv project\\\\src\\\\Video\\\\medmodel.h5'))"
   ]
  },
  {
   "cell_type": "markdown",
   "metadata": {},
   "source": [
    "     \n",
    "     \n",
    "     \n",
    "     "
   ]
  },
  {
   "cell_type": "markdown",
   "metadata": {},
   "source": [
    "\n",
    "\n"
   ]
  },
  {
   "cell_type": "markdown",
   "metadata": {},
   "source": [
    "  "
   ]
  },
  {
   "cell_type": "markdown",
   "metadata": {},
   "source": [
    " "
   ]
  },
  {
   "cell_type": "markdown",
   "metadata": {},
   "source": [
    " \n",
    " "
   ]
  },
  {
   "cell_type": "markdown",
   "metadata": {},
   "source": [
    " "
   ]
  },
  {
   "cell_type": "markdown",
   "metadata": {},
   "source": [
    "# LeNet 5 model\n",
    "using this [proposed implementation](https://towardsdatascience.com/understanding-and-implementing-lenet-5-cnn-architecture-deep-learning-a2d531ebc342)\n",
    "### Create"
   ]
  },
  {
   "cell_type": "code",
   "execution_count": 42,
   "metadata": {},
   "outputs": [],
   "source": [
    "lenet = Sequential()\n",
    "\n",
    "lenet.add(Conv2D(6, kernel_size=5, strides=1,  activation='tanh', input_shape=INPUT_SHAPE, padding='same')) # C1\n",
    "lenet.add(keras.layers.AveragePooling2D())                                                                  # S2\n",
    "\n",
    "lenet.add(Conv2D(16, kernel_size=5, strides=1, activation='tanh', padding='valid'))                         # C3\n",
    "lenet.add(keras.layers.AveragePooling2D())                                                                  # S4\n",
    "\n",
    "lenet.add(Flatten())\n",
    "\n",
    "lenet.add(Dense(120, activation='tanh'))                                                                    # F5\n",
    "lenet.add(Dense(84, activation='tanh'))                                                                     # F6\n",
    "lenet.add(Dense(3, activation= 'softmax'))                                                                  # F7"
   ]
  },
  {
   "cell_type": "code",
   "execution_count": 44,
   "metadata": {},
   "outputs": [],
   "source": [
    "lenet.compile(\n",
    "    # this loss function categorical because there are \n",
    "    # more than 2 classes to classify between\n",
    "    loss='categorical_crossentropy',\n",
    "    optimizer= 'adam',\n",
    "    metrics=['accuracy', tf.keras.metrics.Precision(), tf.keras.metrics.Recall()])"
   ]
  },
  {
   "cell_type": "code",
   "execution_count": 45,
   "metadata": {},
   "outputs": [
    {
     "name": "stdout",
     "output_type": "stream",
     "text": [
      "Epoch 1/10\n",
      "240/240 [==============================] - 18s 73ms/step - loss: 0.7356 - accuracy: 0.6483 - precision_1: 0.6929 - recall_1: 0.5827 - val_loss: 0.4832 - val_accuracy: 0.8029 - val_precision_1: 0.8093 - val_recall_1: 0.7838\n",
      "Epoch 2/10\n",
      "240/240 [==============================] - 17s 70ms/step - loss: 0.4723 - accuracy: 0.7973 - precision_1: 0.8104 - recall_1: 0.7827 - val_loss: 0.4109 - val_accuracy: 0.8423 - val_precision_1: 0.8478 - val_recall_1: 0.8277\n",
      "Epoch 3/10\n",
      "240/240 [==============================] - 17s 71ms/step - loss: 0.4313 - accuracy: 0.8238 - precision_1: 0.8363 - recall_1: 0.8089 - val_loss: 0.3857 - val_accuracy: 0.8525 - val_precision_1: 0.8624 - val_recall_1: 0.8401\n",
      "Epoch 4/10\n",
      "240/240 [==============================] - 17s 71ms/step - loss: 0.4165 - accuracy: 0.8262 - precision_1: 0.8359 - recall_1: 0.8122 - val_loss: 0.4110 - val_accuracy: 0.8367 - val_precision_1: 0.8439 - val_recall_1: 0.8221\n",
      "Epoch 5/10\n",
      "240/240 [==============================] - 17s 71ms/step - loss: 0.3973 - accuracy: 0.8384 - precision_1: 0.8465 - recall_1: 0.8261 - val_loss: 0.3755 - val_accuracy: 0.8525 - val_precision_1: 0.8640 - val_recall_1: 0.8367\n",
      "Epoch 6/10\n",
      "240/240 [==============================] - 17s 73ms/step - loss: 0.4070 - accuracy: 0.8318 - precision_1: 0.8454 - recall_1: 0.8178 - val_loss: 0.3673 - val_accuracy: 0.8536 - val_precision_1: 0.8701 - val_recall_1: 0.8446\n",
      "Epoch 7/10\n",
      "240/240 [==============================] - 17s 71ms/step - loss: 0.3843 - accuracy: 0.8474 - precision_1: 0.8578 - recall_1: 0.8340 - val_loss: 0.3872 - val_accuracy: 0.8390 - val_precision_1: 0.8437 - val_recall_1: 0.8266\n",
      "Epoch 8/10\n",
      "240/240 [==============================] - 18s 76ms/step - loss: 0.3752 - accuracy: 0.8494 - precision_1: 0.8558 - recall_1: 0.8374 - val_loss: 0.3493 - val_accuracy: 0.8547 - val_precision_1: 0.8648 - val_recall_1: 0.8502\n",
      "Epoch 9/10\n",
      "240/240 [==============================] - 18s 74ms/step - loss: 0.3662 - accuracy: 0.8505 - precision_1: 0.8572 - recall_1: 0.8424 - val_loss: 0.3556 - val_accuracy: 0.8559 - val_precision_1: 0.8612 - val_recall_1: 0.8457\n",
      "Epoch 10/10\n",
      "240/240 [==============================] - 18s 75ms/step - loss: 0.3607 - accuracy: 0.8514 - precision_1: 0.8616 - recall_1: 0.8400 - val_loss: 0.3255 - val_accuracy: 0.8784 - val_precision_1: 0.8899 - val_recall_1: 0.8649\n"
     ]
    },
    {
     "data": {
      "text/plain": [
       "<tensorflow.python.keras.callbacks.History at 0x26609745280>"
      ]
     },
     "execution_count": 45,
     "metadata": {},
     "output_type": "execute_result"
    }
   ],
   "source": [
    "lenet.fit(x=train_image_gen,\n",
    "          epochs= 10,\n",
    "          validation_data= test_image_gen)"
   ]
  },
  {
   "cell_type": "code",
   "execution_count": 46,
   "metadata": {},
   "outputs": [
    {
     "name": "stdout",
     "output_type": "stream",
     "text": [
      "Found 888 images belonging to 3 classes.\n",
      "imgs = (100, 100, 100, 1), labels = (100,)\n",
      "(100,)\n",
      "              precision    recall  f1-score   support\n",
      "\n",
      "       boost       0.94      0.86      0.90        36\n",
      "       click       0.81      0.91      0.86        33\n",
      "     upgrade       0.97      0.94      0.95        31\n",
      "\n",
      "    accuracy                           0.90       100\n",
      "   macro avg       0.91      0.90      0.90       100\n",
      "weighted avg       0.91      0.90      0.90       100\n",
      "\n"
     ]
    }
   ],
   "source": [
    "test_image_gen = image_gen.flow_from_directory(r'D:\\vscode workspace\\cv project\\src\\Video\\Images\\test',\n",
    "                                               target_size= INPUT_SHAPE[:2],\n",
    "                                               class_mode =  'categorical',\n",
    "                                               color_mode =  'grayscale',\n",
    "                                               batch_size =  100\n",
    "                                            )\n",
    "imgs, labels = test_image_gen.next()\n",
    "labels = np.argmax(labels, axis=-1)\n",
    "print(f'imgs = {imgs.shape}, labels = {labels.shape}')\n",
    "\n",
    "predictions = np.argmax(lenet.predict(imgs), axis= -1)\n",
    "print(predictions.shape)\n",
    "\n",
    "\n",
    "print(classification_report(labels, predictions,\n",
    "                            target_names= ['boost', 'click', 'upgrade']))"
   ]
  },
  {
   "cell_type": "code",
   "execution_count": 47,
   "metadata": {},
   "outputs": [
    {
     "name": "stdout",
     "output_type": "stream",
     "text": [
      "9/9 - 1s - loss: 0.3286 - accuracy: 0.8761 - precision_1: 0.8838 - recall_1: 0.8649\n"
     ]
    }
   ],
   "source": [
    "test_loss, test_pre, test_rec, test_acc = lenet.evaluate(test_image_gen, verbose=2)"
   ]
  },
  {
   "cell_type": "code",
   "execution_count": 48,
   "metadata": {},
   "outputs": [],
   "source": [
    "lenet.save(os.path.normpath('D:\\\\vscode workspace\\\\cv project\\\\src\\\\Video\\\\LeNet-5.h5'))"
   ]
  },
  {
   "cell_type": "markdown",
   "metadata": {},
   "source": [
    "# the big one:"
   ]
  },
  {
   "cell_type": "code",
   "execution_count": 24,
   "metadata": {},
   "outputs": [],
   "source": [
    "model = Sequential()\n",
    "\n",
    "model.add(Conv2D(filters=64, kernel_size=(5,5), activation= 'relu', input_shape=INPUT_SHAPE))\n",
    "model.add(MaxPooling2D(pool_size=(2,2)))\n",
    "\n",
    "model.add(Conv2D(filters=32, kernel_size=(3,3), activation= 'relu'))\n",
    "model.add(MaxPooling2D(pool_size=(2,2)))\n",
    "\n",
    "model.add(Flatten())\n",
    "\n",
    "model.add(Dense(128, activation='relu'))\n",
    "\n",
    "model.add(Dense(128, activation='relu'))\n",
    "model.add(Dropout(0.5))\n",
    "\n",
    "model.add(Dense(128, activation='relu'))\n",
    "\n",
    "# the output layer:\n",
    "# it will return a 3 float-type list\n",
    "# at the 0th index will be the probability that the img is a boost\n",
    "# at the 1st index will be the probability that the img is a click\n",
    "# at the 2nd index will be the probability that the img is an upgrade\n",
    "model.add(Dense(3, activation='softmax'))"
   ]
  },
  {
   "cell_type": "code",
   "execution_count": 25,
   "metadata": {},
   "outputs": [],
   "source": [
    "model.compile(\n",
    "    # this loss function categorical because there are \n",
    "    # more than 2 classes to classify between\n",
    "    loss='categorical_crossentropy',\n",
    "    optimizer= 'adam',\n",
    "    metrics=['accuracy', tf.keras.metrics.Precision(), tf.keras.metrics.Recall()])"
   ]
  },
  {
   "cell_type": "code",
   "execution_count": 26,
   "metadata": {},
   "outputs": [
    {
     "name": "stdout",
     "output_type": "stream",
     "text": [
      "Epoch 1/50\n",
      "120/120 [==============================] - 41s 331ms/step - loss: 0.8145 - accuracy: 0.5798 - precision: 0.7111 - recall: 0.4378 - val_loss: 0.5156 - val_accuracy: 0.7782 - val_precision: 0.7905 - val_recall: 0.7646\n",
      "Epoch 2/50\n",
      "120/120 [==============================] - 38s 313ms/step - loss: 0.5293 - accuracy: 0.7757 - precision: 0.7948 - recall: 0.7522 - val_loss: 0.5143 - val_accuracy: 0.7759 - val_precision: 0.7907 - val_recall: 0.7658\n",
      "Epoch 3/50\n",
      "120/120 [==============================] - 38s 313ms/step - loss: 0.4803 - accuracy: 0.7953 - precision: 0.8172 - recall: 0.7718 - val_loss: 0.3818 - val_accuracy: 0.8491 - val_precision: 0.8732 - val_recall: 0.8142\n",
      "Epoch 4/50\n",
      "120/120 [==============================] - 38s 315ms/step - loss: 0.4197 - accuracy: 0.8217 - precision: 0.8371 - recall: 0.7973 - val_loss: 0.3621 - val_accuracy: 0.8626 - val_precision: 0.8721 - val_recall: 0.8446\n",
      "Epoch 5/50\n",
      "120/120 [==============================] - 38s 314ms/step - loss: 0.3983 - accuracy: 0.8361 - precision: 0.8460 - recall: 0.8197 - val_loss: 0.3118 - val_accuracy: 0.8773 - val_precision: 0.8874 - val_recall: 0.8694\n",
      "Epoch 6/50\n",
      "120/120 [==============================] - 38s 316ms/step - loss: 0.3827 - accuracy: 0.8505 - precision: 0.8586 - recall: 0.8366 - val_loss: 0.3293 - val_accuracy: 0.8750 - val_precision: 0.8885 - val_recall: 0.8615\n",
      "Epoch 7/50\n",
      "120/120 [==============================] - 38s 313ms/step - loss: 0.3562 - accuracy: 0.8610 - precision: 0.8705 - recall: 0.8507 - val_loss: 0.2433 - val_accuracy: 0.9122 - val_precision: 0.9162 - val_recall: 0.8986\n",
      "Epoch 8/50\n",
      "120/120 [==============================] - 38s 313ms/step - loss: 0.3026 - accuracy: 0.8790 - precision: 0.8855 - recall: 0.8693 - val_loss: 0.2727 - val_accuracy: 0.8941 - val_precision: 0.8997 - val_recall: 0.8885\n",
      "Epoch 9/50\n",
      "120/120 [==============================] - 38s 317ms/step - loss: 0.2886 - accuracy: 0.8858 - precision: 0.8912 - recall: 0.8796 - val_loss: 0.2284 - val_accuracy: 0.9167 - val_precision: 0.9205 - val_recall: 0.9122\n",
      "Epoch 10/50\n",
      "120/120 [==============================] - 38s 315ms/step - loss: 0.2797 - accuracy: 0.8883 - precision: 0.8939 - recall: 0.8800 - val_loss: 0.2290 - val_accuracy: 0.9110 - val_precision: 0.9148 - val_recall: 0.9065\n",
      "Epoch 11/50\n",
      "120/120 [==============================] - 38s 316ms/step - loss: 0.2758 - accuracy: 0.8984 - precision: 0.9057 - recall: 0.8953 - val_loss: 0.2374 - val_accuracy: 0.9110 - val_precision: 0.9136 - val_recall: 0.9054\n",
      "Epoch 12/50\n",
      "120/120 [==============================] - 37s 312ms/step - loss: 0.2455 - accuracy: 0.9139 - precision: 0.9224 - recall: 0.9043 - val_loss: 0.2319 - val_accuracy: 0.9020 - val_precision: 0.9087 - val_recall: 0.8964\n",
      "Epoch 13/50\n",
      "120/120 [==============================] - 38s 315ms/step - loss: 0.2312 - accuracy: 0.9128 - precision: 0.9178 - recall: 0.9067 - val_loss: 0.1830 - val_accuracy: 0.9347 - val_precision: 0.9377 - val_recall: 0.9324\n",
      "Epoch 14/50\n",
      "120/120 [==============================] - 38s 315ms/step - loss: 0.2261 - accuracy: 0.9181 - precision: 0.9235 - recall: 0.9146 - val_loss: 0.1917 - val_accuracy: 0.9245 - val_precision: 0.9265 - val_recall: 0.9223\n",
      "Epoch 15/50\n",
      "120/120 [==============================] - 38s 314ms/step - loss: 0.2238 - accuracy: 0.9204 - precision: 0.9235 - recall: 0.9139 - val_loss: 0.1933 - val_accuracy: 0.9268 - val_precision: 0.9298 - val_recall: 0.9245\n",
      "Epoch 16/50\n",
      "120/120 [==============================] - 38s 315ms/step - loss: 0.2099 - accuracy: 0.9252 - precision: 0.9289 - recall: 0.9232 - val_loss: 0.1720 - val_accuracy: 0.9347 - val_precision: 0.9379 - val_recall: 0.9347\n",
      "Epoch 17/50\n",
      "120/120 [==============================] - 38s 314ms/step - loss: 0.2059 - accuracy: 0.9283 - precision: 0.9310 - recall: 0.9246 - val_loss: 0.1928 - val_accuracy: 0.9414 - val_precision: 0.9413 - val_recall: 0.9392\n",
      "Epoch 18/50\n",
      "120/120 [==============================] - 38s 315ms/step - loss: 0.1961 - accuracy: 0.9308 - precision: 0.9323 - recall: 0.9257 - val_loss: 0.1461 - val_accuracy: 0.9538 - val_precision: 0.9548 - val_recall: 0.9505\n",
      "Epoch 19/50\n",
      "120/120 [==============================] - 38s 314ms/step - loss: 0.1781 - accuracy: 0.9368 - precision: 0.9390 - recall: 0.9348 - val_loss: 0.1865 - val_accuracy: 0.9358 - val_precision: 0.9420 - val_recall: 0.9336\n",
      "Epoch 20/50\n",
      "120/120 [==============================] - 38s 314ms/step - loss: 0.1751 - accuracy: 0.9358 - precision: 0.9382 - recall: 0.9338 - val_loss: 0.1607 - val_accuracy: 0.9403 - val_precision: 0.9402 - val_recall: 0.9392\n",
      "Epoch 21/50\n",
      "120/120 [==============================] - 38s 317ms/step - loss: 0.1951 - accuracy: 0.9260 - precision: 0.9282 - recall: 0.9238 - val_loss: 0.1460 - val_accuracy: 0.9516 - val_precision: 0.9570 - val_recall: 0.9516\n",
      "Epoch 22/50\n",
      "120/120 [==============================] - 38s 314ms/step - loss: 0.1784 - accuracy: 0.9396 - precision: 0.9424 - recall: 0.9371 - val_loss: 0.1674 - val_accuracy: 0.9381 - val_precision: 0.9391 - val_recall: 0.9381\n",
      "Epoch 23/50\n",
      "120/120 [==============================] - 38s 313ms/step - loss: 0.2098 - accuracy: 0.9267 - precision: 0.9277 - recall: 0.9252 - val_loss: 0.2468 - val_accuracy: 0.9043 - val_precision: 0.9062 - val_recall: 0.9032\n",
      "Epoch 24/50\n",
      "120/120 [==============================] - 38s 314ms/step - loss: 0.1833 - accuracy: 0.9342 - precision: 0.9358 - recall: 0.9319 - val_loss: 0.1348 - val_accuracy: 0.9538 - val_precision: 0.9557 - val_recall: 0.9482\n",
      "Epoch 25/50\n",
      "120/120 [==============================] - 38s 314ms/step - loss: 0.1650 - accuracy: 0.9380 - precision: 0.9397 - recall: 0.9359 - val_loss: 0.1280 - val_accuracy: 0.9538 - val_precision: 0.9549 - val_recall: 0.9527\n",
      "Epoch 26/50\n",
      "120/120 [==============================] - 38s 312ms/step - loss: 0.1535 - accuracy: 0.9460 - precision: 0.9484 - recall: 0.9445 - val_loss: 0.1287 - val_accuracy: 0.9572 - val_precision: 0.9582 - val_recall: 0.9550\n",
      "Epoch 27/50\n",
      "120/120 [==============================] - 38s 314ms/step - loss: 0.1539 - accuracy: 0.9423 - precision: 0.9454 - recall: 0.9393 - val_loss: 0.1463 - val_accuracy: 0.9561 - val_precision: 0.9581 - val_recall: 0.9527\n",
      "Epoch 28/50\n",
      "120/120 [==============================] - 38s 313ms/step - loss: 0.1663 - accuracy: 0.9367 - precision: 0.9391 - recall: 0.9334 - val_loss: 0.1155 - val_accuracy: 0.9640 - val_precision: 0.9683 - val_recall: 0.9628\n",
      "Epoch 29/50\n",
      "120/120 [==============================] - 38s 314ms/step - loss: 0.1580 - accuracy: 0.9449 - precision: 0.9467 - recall: 0.9426 - val_loss: 0.1468 - val_accuracy: 0.9493 - val_precision: 0.9514 - val_recall: 0.9482\n",
      "Epoch 30/50\n",
      "120/120 [==============================] - 38s 313ms/step - loss: 0.1518 - accuracy: 0.9471 - precision: 0.9483 - recall: 0.9461 - val_loss: 0.2044 - val_accuracy: 0.9291 - val_precision: 0.9300 - val_recall: 0.9279\n",
      "Epoch 31/50\n",
      "120/120 [==============================] - 38s 314ms/step - loss: 0.1533 - accuracy: 0.9463 - precision: 0.9487 - recall: 0.9441 - val_loss: 0.1289 - val_accuracy: 0.9550 - val_precision: 0.9560 - val_recall: 0.9538\n",
      "Epoch 32/50\n",
      "120/120 [==============================] - 38s 317ms/step - loss: 0.1556 - accuracy: 0.9449 - precision: 0.9481 - recall: 0.9438 - val_loss: 0.1634 - val_accuracy: 0.9369 - val_precision: 0.9410 - val_recall: 0.9336\n",
      "Epoch 33/50\n",
      "120/120 [==============================] - 37s 312ms/step - loss: 0.1538 - accuracy: 0.9433 - precision: 0.9442 - recall: 0.9411 - val_loss: 0.1573 - val_accuracy: 0.9493 - val_precision: 0.9524 - val_recall: 0.9471\n",
      "Epoch 34/50\n",
      "120/120 [==============================] - 38s 317ms/step - loss: 0.1537 - accuracy: 0.9491 - precision: 0.9506 - recall: 0.9474 - val_loss: 0.1356 - val_accuracy: 0.9538 - val_precision: 0.9549 - val_recall: 0.9538\n",
      "Epoch 35/50\n",
      "120/120 [==============================] - 38s 315ms/step - loss: 0.1443 - accuracy: 0.9496 - precision: 0.9508 - recall: 0.9473 - val_loss: 0.1345 - val_accuracy: 0.9583 - val_precision: 0.9583 - val_recall: 0.9572\n",
      "Epoch 36/50\n",
      "120/120 [==============================] - 38s 313ms/step - loss: 0.1316 - accuracy: 0.9514 - precision: 0.9533 - recall: 0.9509 - val_loss: 0.1122 - val_accuracy: 0.9595 - val_precision: 0.9626 - val_recall: 0.9572\n",
      "Epoch 37/50\n",
      "120/120 [==============================] - 38s 314ms/step - loss: 0.1382 - accuracy: 0.9501 - precision: 0.9519 - recall: 0.9482 - val_loss: 0.1274 - val_accuracy: 0.9561 - val_precision: 0.9570 - val_recall: 0.9527\n",
      "Epoch 38/50\n",
      "120/120 [==============================] - 38s 313ms/step - loss: 0.1385 - accuracy: 0.9492 - precision: 0.9513 - recall: 0.9477 - val_loss: 0.1179 - val_accuracy: 0.9617 - val_precision: 0.9627 - val_recall: 0.9583\n",
      "Epoch 39/50\n",
      "120/120 [==============================] - 38s 314ms/step - loss: 0.1307 - accuracy: 0.9540 - precision: 0.9552 - recall: 0.9530 - val_loss: 0.1685 - val_accuracy: 0.9381 - val_precision: 0.9379 - val_recall: 0.9358\n",
      "Epoch 40/50\n",
      "120/120 [==============================] - 37s 312ms/step - loss: 0.1256 - accuracy: 0.9586 - precision: 0.9613 - recall: 0.9582 - val_loss: 0.1616 - val_accuracy: 0.9426 - val_precision: 0.9457 - val_recall: 0.9414\n",
      "Epoch 41/50\n",
      "120/120 [==============================] - 38s 315ms/step - loss: 0.1300 - accuracy: 0.9523 - precision: 0.9541 - recall: 0.9519 - val_loss: 0.1378 - val_accuracy: 0.9493 - val_precision: 0.9515 - val_recall: 0.9493\n",
      "Epoch 42/50\n",
      "120/120 [==============================] - 38s 316ms/step - loss: 0.1296 - accuracy: 0.9570 - precision: 0.9575 - recall: 0.9559 - val_loss: 0.1105 - val_accuracy: 0.9628 - val_precision: 0.9628 - val_recall: 0.9606\n",
      "Epoch 43/50\n",
      "120/120 [==============================] - 38s 314ms/step - loss: 0.1414 - accuracy: 0.9436 - precision: 0.9452 - recall: 0.9408 - val_loss: 0.1038 - val_accuracy: 0.9640 - val_precision: 0.9640 - val_recall: 0.9640\n",
      "Epoch 44/50\n",
      "120/120 [==============================] - 38s 314ms/step - loss: 0.1266 - accuracy: 0.9569 - precision: 0.9576 - recall: 0.9564 - val_loss: 0.1214 - val_accuracy: 0.9617 - val_precision: 0.9628 - val_recall: 0.9606\n",
      "Epoch 45/50\n",
      "120/120 [==============================] - 38s 313ms/step - loss: 0.1442 - accuracy: 0.9498 - precision: 0.9517 - recall: 0.9476 - val_loss: 0.1246 - val_accuracy: 0.9595 - val_precision: 0.9616 - val_recall: 0.9583\n",
      "Epoch 46/50\n",
      "120/120 [==============================] - 39s 324ms/step - loss: 0.1424 - accuracy: 0.9474 - precision: 0.9481 - recall: 0.9450 - val_loss: 0.1209 - val_accuracy: 0.9628 - val_precision: 0.9638 - val_recall: 0.9595\n",
      "Epoch 47/50\n",
      "120/120 [==============================] - 38s 314ms/step - loss: 0.1362 - accuracy: 0.9555 - precision: 0.9564 - recall: 0.9549 - val_loss: 0.1137 - val_accuracy: 0.9595 - val_precision: 0.9616 - val_recall: 0.9583\n",
      "Epoch 48/50\n",
      "120/120 [==============================] - 38s 315ms/step - loss: 0.1423 - accuracy: 0.9519 - precision: 0.9530 - recall: 0.9507 - val_loss: 0.1643 - val_accuracy: 0.9471 - val_precision: 0.9502 - val_recall: 0.9459\n",
      "Epoch 49/50\n",
      "120/120 [==============================] - 38s 314ms/step - loss: 0.1279 - accuracy: 0.9584 - precision: 0.9596 - recall: 0.9578 - val_loss: 0.0910 - val_accuracy: 0.9662 - val_precision: 0.9673 - val_recall: 0.9662\n",
      "Epoch 50/50\n",
      "120/120 [==============================] - 38s 314ms/step - loss: 0.1254 - accuracy: 0.9574 - precision: 0.9590 - recall: 0.9562 - val_loss: 0.1084 - val_accuracy: 0.9651 - val_precision: 0.9651 - val_recall: 0.9640\n"
     ]
    }
   ],
   "source": [
    "results = model.fit(x=train_image_gen,\n",
    "                  epochs= 50,\n",
    "                  validation_data= test_image_gen)"
   ]
  },
  {
   "cell_type": "code",
   "execution_count": 27,
   "metadata": {},
   "outputs": [
    {
     "name": "stdout",
     "output_type": "stream",
     "text": [
      "Found 888 images belonging to 3 classes.\n",
      "imgs = (888, 100, 100, 1), labels = (888,)\n",
      "(888,)\n",
      "              precision    recall  f1-score   support\n",
      "\n",
      "       boost       0.97      0.97      0.97       296\n",
      "       click       0.95      0.96      0.95       296\n",
      "     upgrade       0.98      0.97      0.98       296\n",
      "\n",
      "    accuracy                           0.97       888\n",
      "   macro avg       0.97      0.97      0.97       888\n",
      "weighted avg       0.97      0.97      0.97       888\n",
      "\n"
     ]
    }
   ],
   "source": [
    "test_image_gen = image_gen.flow_from_directory(r'D:\\vscode workspace\\cv project\\src\\Video\\Images\\test',\n",
    "                                               target_size= INPUT_SHAPE[:2],\n",
    "                                               class_mode =  'categorical',\n",
    "                                               color_mode =  'grayscale',\n",
    "                                               batch_size =  1000\n",
    "                                            )\n",
    "imgs, labels = test_image_gen.next()\n",
    "labels = np.argmax(labels, axis=-1)\n",
    "print(f'imgs = {imgs.shape}, labels = {labels.shape}')\n",
    "\n",
    "predictions = np.argmax(model.predict(imgs), axis= -1)\n",
    "print(predictions.shape)\n",
    "\n",
    "\n",
    "print(classification_report(labels, predictions,\n",
    "                            target_names= ['boost', 'click', 'upgrade']))"
   ]
  },
  {
   "cell_type": "code",
   "execution_count": 28,
   "metadata": {},
   "outputs": [],
   "source": [
    "model.save(os.path.normpath('D:\\\\vscode workspace\\\\cv project\\\\src\\\\Video\\\\Models\\\\bigmodel.h5'))"
   ]
  },
  {
   "cell_type": "code",
   "execution_count": null,
   "metadata": {},
   "outputs": [],
   "source": []
  },
  {
   "cell_type": "code",
   "execution_count": null,
   "metadata": {},
   "outputs": [],
   "source": []
  },
  {
   "cell_type": "code",
   "execution_count": null,
   "metadata": {},
   "outputs": [],
   "source": []
  }
 ],
 "metadata": {
  "kernelspec": {
   "display_name": "Python 3",
   "language": "python",
   "name": "python3"
  },
  "language_info": {
   "codemirror_mode": {
    "name": "ipython",
    "version": 3
   },
   "file_extension": ".py",
   "mimetype": "text/x-python",
   "name": "python",
   "nbconvert_exporter": "python",
   "pygments_lexer": "ipython3",
   "version": "3.8.5"
  }
 },
 "nbformat": 4,
 "nbformat_minor": 4
}
